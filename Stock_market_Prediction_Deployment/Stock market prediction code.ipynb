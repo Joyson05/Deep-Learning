{
 "cells": [
  {
   "cell_type": "code",
   "execution_count": null,
   "metadata": {},
   "outputs": [],
   "source": []
  },
  {
   "cell_type": "markdown",
   "metadata": {},
   "source": [
    "*IMPORTING NECESSARY LIBRARIES FOR PREDICTION*"
   ]
  },
  {
   "cell_type": "code",
   "execution_count": 180,
   "metadata": {},
   "outputs": [],
   "source": [
    "import pandas as pd\n",
    "import numpy as np\n",
    "import matplotlib.pyplot as plt\n",
    "import seaborn as sns\n",
    "import yfinance as yf\n",
    "import warnings\n",
    "warnings.filterwarnings('ignore')"
   ]
  },
  {
   "cell_type": "markdown",
   "metadata": {},
   "source": [
    "**IMPORTING STOCK DATASET USING WEB SCRAPING**"
   ]
  },
  {
   "cell_type": "code",
   "execution_count": 181,
   "metadata": {},
   "outputs": [
    {
     "data": {
      "text/html": [
       "<div>\n",
       "<style scoped>\n",
       "    .dataframe tbody tr th:only-of-type {\n",
       "        vertical-align: middle;\n",
       "    }\n",
       "\n",
       "    .dataframe tbody tr th {\n",
       "        vertical-align: top;\n",
       "    }\n",
       "\n",
       "    .dataframe thead th {\n",
       "        text-align: right;\n",
       "    }\n",
       "</style>\n",
       "<table border=\"1\" class=\"dataframe\">\n",
       "  <thead>\n",
       "    <tr style=\"text-align: right;\">\n",
       "      <th></th>\n",
       "      <th>Open</th>\n",
       "      <th>High</th>\n",
       "      <th>Low</th>\n",
       "      <th>Close</th>\n",
       "      <th>Volume</th>\n",
       "    </tr>\n",
       "  </thead>\n",
       "  <tbody>\n",
       "    <tr>\n",
       "      <th>2020-09-14 14:30:00-04:00</th>\n",
       "      <td>268.190002</td>\n",
       "      <td>268.380005</td>\n",
       "      <td>266.630005</td>\n",
       "      <td>267.199890</td>\n",
       "      <td>0</td>\n",
       "    </tr>\n",
       "    <tr>\n",
       "      <th>2020-09-14 15:30:00-04:00</th>\n",
       "      <td>267.190002</td>\n",
       "      <td>268.109985</td>\n",
       "      <td>265.700012</td>\n",
       "      <td>266.140015</td>\n",
       "      <td>3237940</td>\n",
       "    </tr>\n",
       "    <tr>\n",
       "      <th>2020-09-15 09:30:00-04:00</th>\n",
       "      <td>270.670013</td>\n",
       "      <td>274.519989</td>\n",
       "      <td>269.299988</td>\n",
       "      <td>273.160004</td>\n",
       "      <td>4845432</td>\n",
       "    </tr>\n",
       "    <tr>\n",
       "      <th>2020-09-15 10:30:00-04:00</th>\n",
       "      <td>273.119995</td>\n",
       "      <td>273.730011</td>\n",
       "      <td>270.660095</td>\n",
       "      <td>272.109985</td>\n",
       "      <td>2020510</td>\n",
       "    </tr>\n",
       "    <tr>\n",
       "      <th>2020-09-15 11:30:00-04:00</th>\n",
       "      <td>272.109985</td>\n",
       "      <td>273.450012</td>\n",
       "      <td>271.839996</td>\n",
       "      <td>273.000000</td>\n",
       "      <td>1406904</td>\n",
       "    </tr>\n",
       "  </tbody>\n",
       "</table>\n",
       "</div>"
      ],
      "text/plain": [
       "                                 Open        High         Low       Close  \\\n",
       "2020-09-14 14:30:00-04:00  268.190002  268.380005  266.630005  267.199890   \n",
       "2020-09-14 15:30:00-04:00  267.190002  268.109985  265.700012  266.140015   \n",
       "2020-09-15 09:30:00-04:00  270.670013  274.519989  269.299988  273.160004   \n",
       "2020-09-15 10:30:00-04:00  273.119995  273.730011  270.660095  272.109985   \n",
       "2020-09-15 11:30:00-04:00  272.109985  273.450012  271.839996  273.000000   \n",
       "\n",
       "                            Volume  \n",
       "2020-09-14 14:30:00-04:00        0  \n",
       "2020-09-14 15:30:00-04:00  3237940  \n",
       "2020-09-15 09:30:00-04:00  4845432  \n",
       "2020-09-15 10:30:00-04:00  2020510  \n",
       "2020-09-15 11:30:00-04:00  1406904  "
      ]
     },
     "execution_count": 181,
     "metadata": {},
     "output_type": "execute_result"
    }
   ],
   "source": [
    "df_yahoo = yf.download('FB',start='2020-09-15',end='2021-11-15',interval = \"1h\",progress=False,auto_adjust=True)\n",
    "df_yahoo.head()"
   ]
  },
  {
   "cell_type": "code",
   "execution_count": 182,
   "metadata": {},
   "outputs": [
    {
     "data": {
      "text/plain": [
       "(2061, 5)"
      ]
     },
     "execution_count": 182,
     "metadata": {},
     "output_type": "execute_result"
    }
   ],
   "source": [
    "df_yahoo.shape"
   ]
  },
  {
   "cell_type": "markdown",
   "metadata": {},
   "source": [
    ">CHECKING INFORMATION OF DATASET"
   ]
  },
  {
   "cell_type": "code",
   "execution_count": 183,
   "metadata": {},
   "outputs": [
    {
     "name": "stdout",
     "output_type": "stream",
     "text": [
      "<class 'pandas.core.frame.DataFrame'>\n",
      "DatetimeIndex: 2061 entries, 2020-09-14 14:30:00-04:00 to 2021-11-12 15:30:00-05:00\n",
      "Data columns (total 5 columns):\n",
      " #   Column  Non-Null Count  Dtype  \n",
      "---  ------  --------------  -----  \n",
      " 0   Open    2061 non-null   float64\n",
      " 1   High    2061 non-null   float64\n",
      " 2   Low     2061 non-null   float64\n",
      " 3   Close   2061 non-null   float64\n",
      " 4   Volume  2061 non-null   int64  \n",
      "dtypes: float64(4), int64(1)\n",
      "memory usage: 96.6 KB\n"
     ]
    }
   ],
   "source": [
    "df_yahoo.info()"
   ]
  },
  {
   "cell_type": "code",
   "execution_count": 184,
   "metadata": {},
   "outputs": [
    {
     "data": {
      "text/html": [
       "<div>\n",
       "<style scoped>\n",
       "    .dataframe tbody tr th:only-of-type {\n",
       "        vertical-align: middle;\n",
       "    }\n",
       "\n",
       "    .dataframe tbody tr th {\n",
       "        vertical-align: top;\n",
       "    }\n",
       "\n",
       "    .dataframe thead th {\n",
       "        text-align: right;\n",
       "    }\n",
       "</style>\n",
       "<table border=\"1\" class=\"dataframe\">\n",
       "  <thead>\n",
       "    <tr style=\"text-align: right;\">\n",
       "      <th></th>\n",
       "      <th>Open</th>\n",
       "      <th>High</th>\n",
       "      <th>Low</th>\n",
       "      <th>Close</th>\n",
       "    </tr>\n",
       "  </thead>\n",
       "  <tbody>\n",
       "    <tr>\n",
       "      <th>2020-09-14 14:30:00-04:00</th>\n",
       "      <td>268.190002</td>\n",
       "      <td>268.380005</td>\n",
       "      <td>266.630005</td>\n",
       "      <td>267.199890</td>\n",
       "    </tr>\n",
       "    <tr>\n",
       "      <th>2020-09-14 15:30:00-04:00</th>\n",
       "      <td>267.190002</td>\n",
       "      <td>268.109985</td>\n",
       "      <td>265.700012</td>\n",
       "      <td>266.140015</td>\n",
       "    </tr>\n",
       "  </tbody>\n",
       "</table>\n",
       "</div>"
      ],
      "text/plain": [
       "                                 Open        High         Low       Close\n",
       "2020-09-14 14:30:00-04:00  268.190002  268.380005  266.630005  267.199890\n",
       "2020-09-14 15:30:00-04:00  267.190002  268.109985  265.700012  266.140015"
      ]
     },
     "execution_count": 184,
     "metadata": {},
     "output_type": "execute_result"
    }
   ],
   "source": [
    "df=df_yahoo.drop(\"Volume\",axis=1)\n",
    "df.head(2)"
   ]
  },
  {
   "cell_type": "code",
   "execution_count": 185,
   "metadata": {},
   "outputs": [
    {
     "data": {
      "text/html": [
       "<div>\n",
       "<style scoped>\n",
       "    .dataframe tbody tr th:only-of-type {\n",
       "        vertical-align: middle;\n",
       "    }\n",
       "\n",
       "    .dataframe tbody tr th {\n",
       "        vertical-align: top;\n",
       "    }\n",
       "\n",
       "    .dataframe thead th {\n",
       "        text-align: right;\n",
       "    }\n",
       "</style>\n",
       "<table border=\"1\" class=\"dataframe\">\n",
       "  <thead>\n",
       "    <tr style=\"text-align: right;\">\n",
       "      <th></th>\n",
       "      <th>Open</th>\n",
       "      <th>High</th>\n",
       "      <th>Low</th>\n",
       "      <th>Close</th>\n",
       "    </tr>\n",
       "    <tr>\n",
       "      <th>Date</th>\n",
       "      <th></th>\n",
       "      <th></th>\n",
       "      <th></th>\n",
       "      <th></th>\n",
       "    </tr>\n",
       "  </thead>\n",
       "  <tbody>\n",
       "    <tr>\n",
       "      <th>2020-09-14 14:30:00-04:00</th>\n",
       "      <td>268.190002</td>\n",
       "      <td>268.380005</td>\n",
       "      <td>266.630005</td>\n",
       "      <td>267.199890</td>\n",
       "    </tr>\n",
       "    <tr>\n",
       "      <th>2020-09-14 15:30:00-04:00</th>\n",
       "      <td>267.190002</td>\n",
       "      <td>268.109985</td>\n",
       "      <td>265.700012</td>\n",
       "      <td>266.140015</td>\n",
       "    </tr>\n",
       "  </tbody>\n",
       "</table>\n",
       "</div>"
      ],
      "text/plain": [
       "                                 Open        High         Low       Close\n",
       "Date                                                                     \n",
       "2020-09-14 14:30:00-04:00  268.190002  268.380005  266.630005  267.199890\n",
       "2020-09-14 15:30:00-04:00  267.190002  268.109985  265.700012  266.140015"
      ]
     },
     "execution_count": 185,
     "metadata": {},
     "output_type": "execute_result"
    }
   ],
   "source": [
    "df.index.rename('Date', inplace=True)\n",
    "df.head(2)"
   ]
  },
  {
   "cell_type": "markdown",
   "metadata": {},
   "source": [
    ">SORT DATA BY DATE (if misarranged)"
   ]
  },
  {
   "cell_type": "markdown",
   "metadata": {},
   "source": [
    "*SINCE THE DATA IS WEBSCRAPED IT WILL BE IN ASCENDING ORDER*"
   ]
  },
  {
   "cell_type": "code",
   "execution_count": 186,
   "metadata": {},
   "outputs": [
    {
     "data": {
      "text/html": [
       "<div>\n",
       "<style scoped>\n",
       "    .dataframe tbody tr th:only-of-type {\n",
       "        vertical-align: middle;\n",
       "    }\n",
       "\n",
       "    .dataframe tbody tr th {\n",
       "        vertical-align: top;\n",
       "    }\n",
       "\n",
       "    .dataframe thead th {\n",
       "        text-align: right;\n",
       "    }\n",
       "</style>\n",
       "<table border=\"1\" class=\"dataframe\">\n",
       "  <thead>\n",
       "    <tr style=\"text-align: right;\">\n",
       "      <th></th>\n",
       "      <th>Open</th>\n",
       "      <th>High</th>\n",
       "      <th>Low</th>\n",
       "      <th>Close</th>\n",
       "    </tr>\n",
       "  </thead>\n",
       "  <tbody>\n",
       "    <tr>\n",
       "      <th>0</th>\n",
       "      <td>268.190002</td>\n",
       "      <td>268.380005</td>\n",
       "      <td>266.630005</td>\n",
       "      <td>267.199890</td>\n",
       "    </tr>\n",
       "    <tr>\n",
       "      <th>1</th>\n",
       "      <td>267.190002</td>\n",
       "      <td>268.109985</td>\n",
       "      <td>265.700012</td>\n",
       "      <td>266.140015</td>\n",
       "    </tr>\n",
       "    <tr>\n",
       "      <th>2</th>\n",
       "      <td>270.670013</td>\n",
       "      <td>274.519989</td>\n",
       "      <td>269.299988</td>\n",
       "      <td>273.160004</td>\n",
       "    </tr>\n",
       "    <tr>\n",
       "      <th>3</th>\n",
       "      <td>273.119995</td>\n",
       "      <td>273.730011</td>\n",
       "      <td>270.660095</td>\n",
       "      <td>272.109985</td>\n",
       "    </tr>\n",
       "    <tr>\n",
       "      <th>4</th>\n",
       "      <td>272.109985</td>\n",
       "      <td>273.450012</td>\n",
       "      <td>271.839996</td>\n",
       "      <td>273.000000</td>\n",
       "    </tr>\n",
       "  </tbody>\n",
       "</table>\n",
       "</div>"
      ],
      "text/plain": [
       "         Open        High         Low       Close\n",
       "0  268.190002  268.380005  266.630005  267.199890\n",
       "1  267.190002  268.109985  265.700012  266.140015\n",
       "2  270.670013  274.519989  269.299988  273.160004\n",
       "3  273.119995  273.730011  270.660095  272.109985\n",
       "4  272.109985  273.450012  271.839996  273.000000"
      ]
     },
     "execution_count": 186,
     "metadata": {},
     "output_type": "execute_result"
    }
   ],
   "source": [
    "df=df.sort_values(by=['Date'],ignore_index=True)\n",
    "df.head()"
   ]
  },
  {
   "cell_type": "markdown",
   "metadata": {},
   "source": [
    "`check stationary`"
   ]
  },
  {
   "cell_type": "code",
   "execution_count": 187,
   "metadata": {},
   "outputs": [
    {
     "data": {
      "image/png": "[encoded data removed]",
      "text/plain": [
       "<Figure size 720x432 with 1 Axes>"
      ]
     },
     "metadata": {},
     "output_type": "display_data"
    }
   ],
   "source": [
    "plt.figure(figsize=(10,6))\n",
    "plt.grid(True)\n",
    "plt.xlabel(\"Date\")\n",
    "plt.ylabel(\"Close\")\n",
    "plt.plot(df['Close'])\n",
    "plt.title(\"stock Inc Price\")\n",
    "plt.show()"
   ]
  },
  {
   "cell_type": "markdown",
   "metadata": {},
   "source": [
    "**THE TARGET VARIBLE IS NON STATIONARY AND TO PERFORM TIME SERIES DATA SHOULD FOLLOW STATIONARITY**"
   ]
  },
  {
   "cell_type": "markdown",
   "metadata": {},
   "source": [
    ">CORRELATION CHECK AND CORRELLOGRAM"
   ]
  },
  {
   "cell_type": "code",
   "execution_count": 188,
   "metadata": {},
   "outputs": [
    {
     "data": {
      "text/html": [
       "<div>\n",
       "<style scoped>\n",
       "    .dataframe tbody tr th:only-of-type {\n",
       "        vertical-align: middle;\n",
       "    }\n",
       "\n",
       "    .dataframe tbody tr th {\n",
       "        vertical-align: top;\n",
       "    }\n",
       "\n",
       "    .dataframe thead th {\n",
       "        text-align: right;\n",
       "    }\n",
       "</style>\n",
       "<table border=\"1\" class=\"dataframe\">\n",
       "  <thead>\n",
       "    <tr style=\"text-align: right;\">\n",
       "      <th></th>\n",
       "      <th>Open</th>\n",
       "      <th>High</th>\n",
       "      <th>Low</th>\n",
       "      <th>Close</th>\n",
       "    </tr>\n",
       "  </thead>\n",
       "  <tbody>\n",
       "    <tr>\n",
       "      <th>Open</th>\n",
       "      <td>1.000000</td>\n",
       "      <td>0.999487</td>\n",
       "      <td>0.999447</td>\n",
       "      <td>0.998996</td>\n",
       "    </tr>\n",
       "    <tr>\n",
       "      <th>High</th>\n",
       "      <td>0.999487</td>\n",
       "      <td>1.000000</td>\n",
       "      <td>0.999186</td>\n",
       "      <td>0.999487</td>\n",
       "    </tr>\n",
       "    <tr>\n",
       "      <th>Low</th>\n",
       "      <td>0.999447</td>\n",
       "      <td>0.999186</td>\n",
       "      <td>1.000000</td>\n",
       "      <td>0.999492</td>\n",
       "    </tr>\n",
       "    <tr>\n",
       "      <th>Close</th>\n",
       "      <td>0.998996</td>\n",
       "      <td>0.999487</td>\n",
       "      <td>0.999492</td>\n",
       "      <td>1.000000</td>\n",
       "    </tr>\n",
       "  </tbody>\n",
       "</table>\n",
       "</div>"
      ],
      "text/plain": [
       "           Open      High       Low     Close\n",
       "Open   1.000000  0.999487  0.999447  0.998996\n",
       "High   0.999487  1.000000  0.999186  0.999487\n",
       "Low    0.999447  0.999186  1.000000  0.999492\n",
       "Close  0.998996  0.999487  0.999492  1.000000"
      ]
     },
     "execution_count": 188,
     "metadata": {},
     "output_type": "execute_result"
    }
   ],
   "source": [
    "corr=df.corr()\n",
    "corr"
   ]
  },
  {
   "cell_type": "code",
   "execution_count": 189,
   "metadata": {},
   "outputs": [
    {
     "data": {
      "image/png": "[encoded data removed]",
      "text/plain": [
       "<Figure size 1440x504 with 2 Axes>"
      ]
     },
     "metadata": {},
     "output_type": "display_data"
    }
   ],
   "source": [
    "plt.figure(figsize=(20, 7),facecolor=\"lightgrey\",frameon=True,edgecolor='blue')\n",
    "sns.heatmap(corr, annot=True, cmap='magma');\n",
    "plt.show()"
   ]
  },
  {
   "cell_type": "markdown",
   "metadata": {},
   "source": [
    "**TO MAKE DATA STATIONARY NEED TO PERFORM TIME SHIFT**"
   ]
  },
  {
   "cell_type": "markdown",
   "metadata": {},
   "source": [
    "*Time Shifts are when a condition often result in a time series with a horizontal pattern to shift to a new level at some point in time.*"
   ]
  },
  {
   "cell_type": "code",
   "execution_count": 190,
   "metadata": {},
   "outputs": [
    {
     "data": {
      "text/html": [
       "<div>\n",
       "<style scoped>\n",
       "    .dataframe tbody tr th:only-of-type {\n",
       "        vertical-align: middle;\n",
       "    }\n",
       "\n",
       "    .dataframe tbody tr th {\n",
       "        vertical-align: top;\n",
       "    }\n",
       "\n",
       "    .dataframe thead th {\n",
       "        text-align: right;\n",
       "    }\n",
       "</style>\n",
       "<table border=\"1\" class=\"dataframe\">\n",
       "  <thead>\n",
       "    <tr style=\"text-align: right;\">\n",
       "      <th></th>\n",
       "      <th>Open</th>\n",
       "      <th>High</th>\n",
       "      <th>Low</th>\n",
       "      <th>Close</th>\n",
       "      <th>s1</th>\n",
       "    </tr>\n",
       "  </thead>\n",
       "  <tbody>\n",
       "    <tr>\n",
       "      <th>0</th>\n",
       "      <td>268.190002</td>\n",
       "      <td>268.380005</td>\n",
       "      <td>266.630005</td>\n",
       "      <td>267.199890</td>\n",
       "      <td>NaN</td>\n",
       "    </tr>\n",
       "    <tr>\n",
       "      <th>1</th>\n",
       "      <td>267.190002</td>\n",
       "      <td>268.109985</td>\n",
       "      <td>265.700012</td>\n",
       "      <td>266.140015</td>\n",
       "      <td>-1.059875</td>\n",
       "    </tr>\n",
       "    <tr>\n",
       "      <th>2</th>\n",
       "      <td>270.670013</td>\n",
       "      <td>274.519989</td>\n",
       "      <td>269.299988</td>\n",
       "      <td>273.160004</td>\n",
       "      <td>7.019989</td>\n",
       "    </tr>\n",
       "    <tr>\n",
       "      <th>3</th>\n",
       "      <td>273.119995</td>\n",
       "      <td>273.730011</td>\n",
       "      <td>270.660095</td>\n",
       "      <td>272.109985</td>\n",
       "      <td>-1.050018</td>\n",
       "    </tr>\n",
       "    <tr>\n",
       "      <th>4</th>\n",
       "      <td>272.109985</td>\n",
       "      <td>273.450012</td>\n",
       "      <td>271.839996</td>\n",
       "      <td>273.000000</td>\n",
       "      <td>0.890015</td>\n",
       "    </tr>\n",
       "    <tr>\n",
       "      <th>5</th>\n",
       "      <td>273.029999</td>\n",
       "      <td>274.200012</td>\n",
       "      <td>272.630005</td>\n",
       "      <td>273.859985</td>\n",
       "      <td>0.859985</td>\n",
       "    </tr>\n",
       "    <tr>\n",
       "      <th>6</th>\n",
       "      <td>273.899994</td>\n",
       "      <td>273.929993</td>\n",
       "      <td>272.649994</td>\n",
       "      <td>273.059998</td>\n",
       "      <td>-0.799988</td>\n",
       "    </tr>\n",
       "    <tr>\n",
       "      <th>7</th>\n",
       "      <td>273.065002</td>\n",
       "      <td>273.899994</td>\n",
       "      <td>269.549988</td>\n",
       "      <td>271.959991</td>\n",
       "      <td>-1.100006</td>\n",
       "    </tr>\n",
       "    <tr>\n",
       "      <th>8</th>\n",
       "      <td>271.989990</td>\n",
       "      <td>272.700012</td>\n",
       "      <td>270.230011</td>\n",
       "      <td>272.459991</td>\n",
       "      <td>0.500000</td>\n",
       "    </tr>\n",
       "    <tr>\n",
       "      <th>9</th>\n",
       "      <td>267.290009</td>\n",
       "      <td>272.440002</td>\n",
       "      <td>267.290009</td>\n",
       "      <td>268.839996</td>\n",
       "      <td>-3.619995</td>\n",
       "    </tr>\n",
       "    <tr>\n",
       "      <th>10</th>\n",
       "      <td>268.790009</td>\n",
       "      <td>270.049988</td>\n",
       "      <td>266.820007</td>\n",
       "      <td>269.899994</td>\n",
       "      <td>1.059998</td>\n",
       "    </tr>\n",
       "    <tr>\n",
       "      <th>11</th>\n",
       "      <td>269.910004</td>\n",
       "      <td>270.288208</td>\n",
       "      <td>266.480011</td>\n",
       "      <td>266.940002</td>\n",
       "      <td>-2.959991</td>\n",
       "    </tr>\n",
       "    <tr>\n",
       "      <th>12</th>\n",
       "      <td>267.000000</td>\n",
       "      <td>267.075012</td>\n",
       "      <td>264.620392</td>\n",
       "      <td>264.938293</td>\n",
       "      <td>-2.001709</td>\n",
       "    </tr>\n",
       "    <tr>\n",
       "      <th>13</th>\n",
       "      <td>264.950012</td>\n",
       "      <td>266.989990</td>\n",
       "      <td>264.000000</td>\n",
       "      <td>266.380005</td>\n",
       "      <td>1.441711</td>\n",
       "    </tr>\n",
       "    <tr>\n",
       "      <th>14</th>\n",
       "      <td>266.350006</td>\n",
       "      <td>266.750000</td>\n",
       "      <td>262.529999</td>\n",
       "      <td>262.755890</td>\n",
       "      <td>-3.624115</td>\n",
       "    </tr>\n",
       "  </tbody>\n",
       "</table>\n",
       "</div>"
      ],
      "text/plain": [
       "          Open        High         Low       Close        s1\n",
       "0   268.190002  268.380005  266.630005  267.199890       NaN\n",
       "1   267.190002  268.109985  265.700012  266.140015 -1.059875\n",
       "2   270.670013  274.519989  269.299988  273.160004  7.019989\n",
       "3   273.119995  273.730011  270.660095  272.109985 -1.050018\n",
       "4   272.109985  273.450012  271.839996  273.000000  0.890015\n",
       "5   273.029999  274.200012  272.630005  273.859985  0.859985\n",
       "6   273.899994  273.929993  272.649994  273.059998 -0.799988\n",
       "7   273.065002  273.899994  269.549988  271.959991 -1.100006\n",
       "8   271.989990  272.700012  270.230011  272.459991  0.500000\n",
       "9   267.290009  272.440002  267.290009  268.839996 -3.619995\n",
       "10  268.790009  270.049988  266.820007  269.899994  1.059998\n",
       "11  269.910004  270.288208  266.480011  266.940002 -2.959991\n",
       "12  267.000000  267.075012  264.620392  264.938293 -2.001709\n",
       "13  264.950012  266.989990  264.000000  266.380005  1.441711\n",
       "14  266.350006  266.750000  262.529999  262.755890 -3.624115"
      ]
     },
     "execution_count": 190,
     "metadata": {},
     "output_type": "execute_result"
    }
   ],
   "source": [
    "df[\"s1\"]=df[\"Close\"]-df['Close'].shift(1)\n",
    "df.head(15)"
   ]
  },
  {
   "cell_type": "code",
   "execution_count": 191,
   "metadata": {},
   "outputs": [
    {
     "data": {
      "image/png": "[encoded data removed]",
      "text/plain": [
       "<Figure size 720x432 with 1 Axes>"
      ]
     },
     "metadata": {},
     "output_type": "display_data"
    }
   ],
   "source": [
    "plt.figure(figsize=(10,6))\n",
    "plt.grid(True)\n",
    "plt.xlabel(\"Date\")\n",
    "plt.ylabel(\"s1\")\n",
    "plt.plot(df['s1'])\n",
    "plt.title(\"stock Inc s1\")\n",
    "plt.show()"
   ]
  },
  {
   "cell_type": "code",
   "execution_count": 192,
   "metadata": {},
   "outputs": [
    {
     "data": {
      "text/html": [
       "<div>\n",
       "<style scoped>\n",
       "    .dataframe tbody tr th:only-of-type {\n",
       "        vertical-align: middle;\n",
       "    }\n",
       "\n",
       "    .dataframe tbody tr th {\n",
       "        vertical-align: top;\n",
       "    }\n",
       "\n",
       "    .dataframe thead th {\n",
       "        text-align: right;\n",
       "    }\n",
       "</style>\n",
       "<table border=\"1\" class=\"dataframe\">\n",
       "  <thead>\n",
       "    <tr style=\"text-align: right;\">\n",
       "      <th></th>\n",
       "      <th>Open</th>\n",
       "      <th>High</th>\n",
       "      <th>Low</th>\n",
       "      <th>Close</th>\n",
       "      <th>s1</th>\n",
       "    </tr>\n",
       "  </thead>\n",
       "  <tbody>\n",
       "    <tr>\n",
       "      <th>1</th>\n",
       "      <td>267.190002</td>\n",
       "      <td>268.109985</td>\n",
       "      <td>265.700012</td>\n",
       "      <td>266.140015</td>\n",
       "      <td>-1.059875</td>\n",
       "    </tr>\n",
       "    <tr>\n",
       "      <th>2</th>\n",
       "      <td>270.670013</td>\n",
       "      <td>274.519989</td>\n",
       "      <td>269.299988</td>\n",
       "      <td>273.160004</td>\n",
       "      <td>7.019989</td>\n",
       "    </tr>\n",
       "    <tr>\n",
       "      <th>3</th>\n",
       "      <td>273.119995</td>\n",
       "      <td>273.730011</td>\n",
       "      <td>270.660095</td>\n",
       "      <td>272.109985</td>\n",
       "      <td>-1.050018</td>\n",
       "    </tr>\n",
       "    <tr>\n",
       "      <th>4</th>\n",
       "      <td>272.109985</td>\n",
       "      <td>273.450012</td>\n",
       "      <td>271.839996</td>\n",
       "      <td>273.000000</td>\n",
       "      <td>0.890015</td>\n",
       "    </tr>\n",
       "    <tr>\n",
       "      <th>5</th>\n",
       "      <td>273.029999</td>\n",
       "      <td>274.200012</td>\n",
       "      <td>272.630005</td>\n",
       "      <td>273.859985</td>\n",
       "      <td>0.859985</td>\n",
       "    </tr>\n",
       "  </tbody>\n",
       "</table>\n",
       "</div>"
      ],
      "text/plain": [
       "         Open        High         Low       Close        s1\n",
       "1  267.190002  268.109985  265.700012  266.140015 -1.059875\n",
       "2  270.670013  274.519989  269.299988  273.160004  7.019989\n",
       "3  273.119995  273.730011  270.660095  272.109985 -1.050018\n",
       "4  272.109985  273.450012  271.839996  273.000000  0.890015\n",
       "5  273.029999  274.200012  272.630005  273.859985  0.859985"
      ]
     },
     "execution_count": 192,
     "metadata": {},
     "output_type": "execute_result"
    }
   ],
   "source": [
    "df=df.dropna()\n",
    "df.head()"
   ]
  },
  {
   "cell_type": "markdown",
   "metadata": {},
   "source": [
    "##### STATIONARITY TEST -ADF(ADfuller)"
   ]
  },
  {
   "cell_type": "code",
   "execution_count": 193,
   "metadata": {},
   "outputs": [
    {
     "name": "stdout",
     "output_type": "stream",
     "text": [
      "(-43.71741594422271, 0.0, 0, 2059, {'1%': -3.433529927750221, '5%': -2.86294474297357, '10%': -2.5675178213960623}, 8930.701032194791)\n"
     ]
    }
   ],
   "source": [
    "# ADfuller Test -For checking stationary data\n",
    "from statsmodels.tsa.stattools import adfuller\n",
    "ADF_test=adfuller(df[\"s1\"],autolag=\"AIC\")\n",
    "print(ADF_test)"
   ]
  },
  {
   "cell_type": "markdown",
   "metadata": {},
   "source": [
    " >Null Hypothesis H0: Non Stationary\n",
    "\n",
    " \n",
    " >Alternative Hypothesis : Stationary"
   ]
  },
  {
   "cell_type": "code",
   "execution_count": 194,
   "metadata": {},
   "outputs": [
    {
     "name": "stdout",
     "output_type": "stream",
     "text": [
      "                                 0\n",
      "Test Statistics         -43.717416\n",
      "p-Value                   0.000000\n",
      "Lag                       0.000000\n",
      "number of observation  2059.000000\n"
     ]
    }
   ],
   "source": [
    "output=pd.DataFrame(ADF_test[0:4],index=[\"Test Statistics\",\"p-Value\",\"Lag\",\"number of observation\"])\n",
    "print(output)"
   ]
  },
  {
   "cell_type": "markdown",
   "metadata": {},
   "source": [
    "##### SEASONAL DECOMPOSE"
   ]
  },
  {
   "cell_type": "markdown",
   "metadata": {},
   "source": [
    "*The decomposition of time series is a statistical task that deconstructs a time series into several components, each representing one of the underlying categories of patterns. With statsmodels we will be able to see the trend, seasonal, and residual components of our data.*"
   ]
  },
  {
   "cell_type": "code",
   "execution_count": 195,
   "metadata": {},
   "outputs": [],
   "source": [
    "# EDA -Graph view\n",
    "from statsmodels.tsa.seasonal import seasonal_decompose\n",
    "# decompose used for checking trend seasonality and error\n",
    "plt.style.use('ggplot')"
   ]
  },
  {
   "cell_type": "code",
   "execution_count": 196,
   "metadata": {},
   "outputs": [
    {
     "data": {
      "text/plain": [
       "<Figure size 432x288 with 0 Axes>"
      ]
     },
     "metadata": {},
     "output_type": "display_data"
    },
    {
     "data": {
      "image/png": "[encoded data removed]",
      "text/plain": [
       "<Figure size 1152x648 with 4 Axes>"
      ]
     },
     "metadata": {},
     "output_type": "display_data"
    }
   ],
   "source": [
    "result = seasonal_decompose(df['Close'], model='multiplicative', freq = 200)\n",
    "fig = plt.figure()\n",
    "fig = result.plot()\n",
    "fig.set_size_inches(16, 9)"
   ]
  },
  {
   "cell_type": "markdown",
   "metadata": {},
   "source": [
    "##### Train Test Split"
   ]
  },
  {
   "cell_type": "code",
   "execution_count": 197,
   "metadata": {},
   "outputs": [],
   "source": [
    "total_count=df.shape"
   ]
  },
  {
   "cell_type": "code",
   "execution_count": 198,
   "metadata": {},
   "outputs": [
    {
     "data": {
      "text/plain": [
       "(1648, 412)"
      ]
     },
     "execution_count": 198,
     "metadata": {},
     "output_type": "execute_result"
    }
   ],
   "source": [
    "import math\n",
    "train_count=math.floor(0.8*total_count[0])\n",
    "test_count=total_count[0]-train_count\n",
    "train_count,test_count"
   ]
  },
  {
   "cell_type": "code",
   "execution_count": 199,
   "metadata": {},
   "outputs": [],
   "source": [
    "Train=df[\"Close\"].loc[:train_count]\n",
    "Test=df[\"Close\"].loc[(train_count+1):]"
   ]
  },
  {
   "cell_type": "code",
   "execution_count": 200,
   "metadata": {},
   "outputs": [
    {
     "data": {
      "text/plain": [
       "1649    363.714996\n",
       "1650    364.980011\n",
       "1651    364.885010\n",
       "1652    365.234985\n",
       "1653    363.989807\n",
       "           ...    \n",
       "2056    340.200012\n",
       "2057    338.929993\n",
       "2058    339.149994\n",
       "2059    339.885010\n",
       "2060    340.899994\n",
       "Name: Close, Length: 412, dtype: float64"
      ]
     },
     "execution_count": 200,
     "metadata": {},
     "output_type": "execute_result"
    }
   ],
   "source": [
    "Test"
   ]
  },
  {
   "cell_type": "code",
   "execution_count": 201,
   "metadata": {},
   "outputs": [
    {
     "data": {
      "image/png": "[encoded data removed]",
      "text/plain": [
       "<Figure size 432x288 with 1 Axes>"
      ]
     },
     "metadata": {},
     "output_type": "display_data"
    }
   ],
   "source": [
    "plt.plot(Train)\n",
    "plt.plot(Test)\n",
    "plt.show()"
   ]
  },
  {
   "cell_type": "markdown",
   "metadata": {},
   "source": [
    "## ARIMA model"
   ]
  },
  {
   "cell_type": "code",
   "execution_count": 202,
   "metadata": {},
   "outputs": [],
   "source": [
    "from statsmodels.tsa.arima_model import ARIMA\n",
    "from statsmodels.graphics.tsaplots import plot_acf,plot_pacf"
   ]
  },
  {
   "cell_type": "markdown",
   "metadata": {},
   "source": [
    " For identifying p value we have use plot pacf"
   ]
  },
  {
   "cell_type": "code",
   "execution_count": 203,
   "metadata": {},
   "outputs": [
    {
     "data": {
      "image/png": "[encoded data removed]",
      "text/plain": [
       "<Figure size 432x288 with 1 Axes>"
      ]
     },
     "metadata": {},
     "output_type": "display_data"
    }
   ],
   "source": [
    "plot_pacf(df[\"s1\"]);# p=0-Autoregressive"
   ]
  },
  {
   "cell_type": "code",
   "execution_count": 204,
   "metadata": {},
   "outputs": [
    {
     "data": {
      "image/png": "[encoded data removed]",
      "text/plain": [
       "<Figure size 432x288 with 1 Axes>"
      ]
     },
     "metadata": {},
     "output_type": "display_data"
    }
   ],
   "source": [
    "plot_acf(df[['s1']]); # q=0 # An MA term is technically the error of the lagged forecast"
   ]
  },
  {
   "cell_type": "code",
   "execution_count": 205,
   "metadata": {},
   "outputs": [],
   "source": [
    "model_arima=ARIMA(Train,order=(0,1,0))\n",
    "model_arima_fit=model_arima.fit()"
   ]
  },
  {
   "cell_type": "code",
   "execution_count": 206,
   "metadata": {},
   "outputs": [
    {
     "data": {
      "text/plain": [
       "0    359.146559\n",
       "1    357.473124\n",
       "2    356.202774\n",
       "3    355.141076\n",
       "4    354.212718\n",
       "Name: 0, dtype: float64"
      ]
     },
     "execution_count": 206,
     "metadata": {},
     "output_type": "execute_result"
    }
   ],
   "source": [
    "y_pred=model_arima_fit.forecast(steps=test_count)[2]\n",
    "y_pred=pd.DataFrame(y_pred)[0]\n",
    "y_pred.head()"
   ]
  },
  {
   "cell_type": "code",
   "execution_count": 207,
   "metadata": {},
   "outputs": [
    {
     "data": {
      "image/png": "[encoded data removed]",
      "text/plain": [
       "<Figure size 1080x720 with 1 Axes>"
      ]
     },
     "metadata": {},
     "output_type": "display_data"
    }
   ],
   "source": [
    "plt.figure(figsize=(15,10))\n",
    "plt.plot(Train.index,Train,label= 'Training')\n",
    "plt.plot(Test.index,Test,label= 'Testing')\n",
    "plt.plot(Test.index,y_pred,label= 'future_forecast')\n",
    "plt.legend()\n",
    "plt.show()"
   ]
  },
  {
   "cell_type": "markdown",
   "metadata": {},
   "source": [
    "##### PERFORMANCE METRICES"
   ]
  },
  {
   "cell_type": "markdown",
   "metadata": {},
   "source": [
    ">MEAN SQUARED ERROR"
   ]
  },
  {
   "cell_type": "code",
   "execution_count": 208,
   "metadata": {},
   "outputs": [
    {
     "data": {
      "text/plain": [
       "959.8740451231515"
      ]
     },
     "execution_count": 208,
     "metadata": {},
     "output_type": "execute_result"
    }
   ],
   "source": [
    "from sklearn.metrics import mean_squared_error\n",
    "x_arima=mean_squared_error(Test,y_pred)\n",
    "x_arima"
   ]
  },
  {
   "cell_type": "markdown",
   "metadata": {},
   "source": [
    ">ROOT MEAN SQUARED ERROR"
   ]
  },
  {
   "cell_type": "code",
   "execution_count": 209,
   "metadata": {},
   "outputs": [
    {
     "data": {
      "text/plain": [
       "30.981834114899517"
      ]
     },
     "execution_count": 209,
     "metadata": {},
     "output_type": "execute_result"
    }
   ],
   "source": [
    "rmse_arima=x_arima**0.5\n",
    "rmse_arima"
   ]
  },
  {
   "cell_type": "markdown",
   "metadata": {},
   "source": [
    ">MEAN ABSOLUTE PERCENTAGE ERROR"
   ]
  },
  {
   "cell_type": "code",
   "execution_count": 210,
   "metadata": {},
   "outputs": [
    {
     "name": "stdout",
     "output_type": "stream",
     "text": [
      "8.023544353684317\n"
     ]
    }
   ],
   "source": [
    "from sklearn.metrics import mean_absolute_percentage_error\n",
    "mape_arima =mean_absolute_percentage_error(Test,y_pred)*100\n",
    "print(mape_arima)"
   ]
  },
  {
   "cell_type": "markdown",
   "metadata": {},
   "source": [
    "# Holt-Winters"
   ]
  },
  {
   "cell_type": "code",
   "execution_count": 211,
   "metadata": {},
   "outputs": [],
   "source": [
    "from statsmodels.tsa.holtwinters import ExponentialSmoothing"
   ]
  },
  {
   "cell_type": "code",
   "execution_count": 212,
   "metadata": {},
   "outputs": [],
   "source": [
    "model_hw = ExponentialSmoothing(Train,trend=\"add\",seasonal=\"add\", seasonal_periods=100)\n",
    "fitted_model=model_hw.fit()\n",
    "y_pred_hw=fitted_model.predict(start=1649,end=2060)"
   ]
  },
  {
   "cell_type": "code",
   "execution_count": 213,
   "metadata": {},
   "outputs": [
    {
     "data": {
      "image/png": "[encoded data removed]",
      "text/plain": [
       "<Figure size 1080x720 with 1 Axes>"
      ]
     },
     "metadata": {},
     "output_type": "display_data"
    }
   ],
   "source": [
    "\n",
    "plt.figure(figsize=(15,10))\n",
    "plt.plot(Train.index,Train,label= 'Training')\n",
    "plt.plot(Test.index,Test,label= 'Testing')\n",
    "plt.plot(Test.index,y_pred_hw,label= 'future_forecast')\n",
    "plt.legend()\n",
    "plt.show()\n"
   ]
  },
  {
   "cell_type": "markdown",
   "metadata": {},
   "source": [
    "##### PERFORMANCE METRICES"
   ]
  },
  {
   "cell_type": "markdown",
   "metadata": {},
   "source": [
    ">MEAN SQUARED ERROR"
   ]
  },
  {
   "cell_type": "code",
   "execution_count": 214,
   "metadata": {},
   "outputs": [
    {
     "data": {
      "text/plain": [
       "1806.1790255773406"
      ]
     },
     "execution_count": 214,
     "metadata": {},
     "output_type": "execute_result"
    }
   ],
   "source": [
    "from sklearn.metrics import mean_squared_error\n",
    "x_hw=mean_squared_error(Test,y_pred_hw)\n",
    "x_hw"
   ]
  },
  {
   "cell_type": "markdown",
   "metadata": {},
   "source": [
    ">ROOT MEAN SQUARED ERROR"
   ]
  },
  {
   "cell_type": "code",
   "execution_count": 215,
   "metadata": {},
   "outputs": [
    {
     "data": {
      "text/plain": [
       "42.49916499858957"
      ]
     },
     "execution_count": 215,
     "metadata": {},
     "output_type": "execute_result"
    }
   ],
   "source": [
    "rmse_hw=x_hw**0.5\n",
    "rmse_hw"
   ]
  },
  {
   "cell_type": "markdown",
   "metadata": {},
   "source": [
    ">MEAN ABSOLUTE PERCENTAGE ERROR"
   ]
  },
  {
   "cell_type": "code",
   "execution_count": 216,
   "metadata": {},
   "outputs": [
    {
     "name": "stdout",
     "output_type": "stream",
     "text": [
      "10.619090222200896\n"
     ]
    }
   ],
   "source": [
    "from sklearn.metrics import mean_absolute_percentage_error\n",
    "mape_hw =mean_absolute_percentage_error(Test,y_pred_hw)*100\n",
    "print(mape_hw)"
   ]
  },
  {
   "cell_type": "markdown",
   "metadata": {},
   "source": [
    "## RNN"
   ]
  },
  {
   "cell_type": "code",
   "execution_count": 217,
   "metadata": {},
   "outputs": [],
   "source": [
    "from keras.models import Sequential"
   ]
  },
  {
   "cell_type": "code",
   "execution_count": 218,
   "id": "850a04be",
   "metadata": {},
   "outputs": [],
   "source": [
    "from sklearn.preprocessing import MinMaxScaler"
   ]
  },
  {
   "cell_type": "code",
   "execution_count": 219,
   "id": "4d429910",
   "metadata": {},
   "outputs": [],
   "source": [
    "min_max_scaler=MinMaxScaler(feature_range=(0,1))"
   ]
  },
  {
   "cell_type": "code",
   "execution_count": 220,
   "id": "e959dfec",
   "metadata": {},
   "outputs": [],
   "source": [
    "dataset=min_max_scaler.fit_transform(df_yahoo['Close'].values.reshape(-1,1))"
   ]
  },
  {
   "cell_type": "markdown",
   "id": "1b0ecf1b",
   "metadata": {},
   "source": [
    "# Train and Test split"
   ]
  },
  {
   "cell_type": "code",
   "execution_count": 221,
   "id": "63ec7097",
   "metadata": {},
   "outputs": [],
   "source": [
    "train_size=int(len(df_yahoo)*0.8)"
   ]
  },
  {
   "cell_type": "code",
   "execution_count": 222,
   "id": "908cb008",
   "metadata": {},
   "outputs": [],
   "source": [
    "test_size=len(df_yahoo)-train_size"
   ]
  },
  {
   "cell_type": "code",
   "execution_count": 223,
   "id": "47cc6508",
   "metadata": {},
   "outputs": [],
   "source": [
    "Train=dataset[0:train_size,:]"
   ]
  },
  {
   "cell_type": "code",
   "execution_count": 224,
   "id": "6a2df5ff",
   "metadata": {},
   "outputs": [],
   "source": [
    "Test=dataset[train_size:len(dataset),:]"
   ]
  },
  {
   "cell_type": "code",
   "execution_count": 225,
   "id": "67e46527",
   "metadata": {},
   "outputs": [
    {
     "data": {
      "text/plain": [
       "1648"
      ]
     },
     "execution_count": 225,
     "metadata": {},
     "output_type": "execute_result"
    }
   ],
   "source": [
    "len(Train)"
   ]
  },
  {
   "cell_type": "code",
   "execution_count": 226,
   "id": "77395276",
   "metadata": {},
   "outputs": [
    {
     "data": {
      "text/plain": [
       "413"
      ]
     },
     "execution_count": 226,
     "metadata": {},
     "output_type": "execute_result"
    }
   ],
   "source": [
    "len(Test)"
   ]
  },
  {
   "cell_type": "code",
   "execution_count": 227,
   "id": "a37b03ff",
   "metadata": {},
   "outputs": [],
   "source": [
    "def create_dataset(dataset,time_step=15):\n",
    "    x_ind,y_dep =[],[]\n",
    "    for i in range(len(dataset)-time_step-1):\n",
    "        a=dataset[i:(i+time_step),0]\n",
    "        x_ind.append(a)\n",
    "        y_dep.append(dataset[i+time_step,0])\n",
    "    return np.array(x_ind),np.array(y_dep)\n",
    "        "
   ]
  },
  {
   "cell_type": "code",
   "execution_count": 228,
   "id": "2be2952b",
   "metadata": {},
   "outputs": [],
   "source": [
    "x_train,y_train=create_dataset(Train,time_step=15)"
   ]
  },
  {
   "cell_type": "code",
   "execution_count": 229,
   "id": "21b4ae75",
   "metadata": {},
   "outputs": [
    {
     "data": {
      "text/plain": [
       "(1632, 15)"
      ]
     },
     "execution_count": 229,
     "metadata": {},
     "output_type": "execute_result"
    }
   ],
   "source": [
    "x_train.shape"
   ]
  },
  {
   "cell_type": "code",
   "execution_count": 230,
   "id": "def66118",
   "metadata": {},
   "outputs": [],
   "source": [
    "x_test,y_test=create_dataset(Test,time_step=15)"
   ]
  },
  {
   "cell_type": "code",
   "execution_count": 231,
   "id": "c0e40789",
   "metadata": {},
   "outputs": [
    {
     "data": {
      "text/plain": [
       "(397,)"
      ]
     },
     "execution_count": 231,
     "metadata": {},
     "output_type": "execute_result"
    }
   ],
   "source": [
    "y_test.shape"
   ]
  },
  {
   "cell_type": "code",
   "execution_count": 232,
   "id": "af70799a",
   "metadata": {},
   "outputs": [
    {
     "data": {
      "text/plain": [
       "(397, 15)"
      ]
     },
     "execution_count": 232,
     "metadata": {},
     "output_type": "execute_result"
    }
   ],
   "source": [
    "x_test.shape"
   ]
  },
  {
   "cell_type": "markdown",
   "id": "ddddf2ab",
   "metadata": {},
   "source": [
    "*LSTM -Long short term memory -network expects the input data (x) to be provided with a specific array structure in the for of[Sample,time_steps,features ]-LSTM always works with sample timestep features*"
   ]
  },
  {
   "cell_type": "code",
   "execution_count": 233,
   "id": "13b27cf0",
   "metadata": {},
   "outputs": [
    {
     "data": {
      "text/plain": [
       "((1632, 15), (397, 15))"
      ]
     },
     "execution_count": 233,
     "metadata": {},
     "output_type": "execute_result"
    }
   ],
   "source": [
    "x_train.shape,x_test.shape"
   ]
  },
  {
   "cell_type": "code",
   "execution_count": 234,
   "id": "89ee4699",
   "metadata": {},
   "outputs": [],
   "source": [
    "x_train=np.reshape(x_train,(x_train.shape[0],1,x_train.shape[1]))"
   ]
  },
  {
   "cell_type": "code",
   "execution_count": 235,
   "id": "40340029",
   "metadata": {},
   "outputs": [
    {
     "data": {
      "text/plain": [
       "(1632, 1, 15)"
      ]
     },
     "execution_count": 235,
     "metadata": {},
     "output_type": "execute_result"
    }
   ],
   "source": [
    "x_train.shape"
   ]
  },
  {
   "cell_type": "code",
   "execution_count": 236,
   "id": "72f5c202",
   "metadata": {},
   "outputs": [],
   "source": [
    "x_test=np.reshape(x_test,(x_test.shape[0],1,x_test.shape[1]))"
   ]
  },
  {
   "cell_type": "code",
   "execution_count": 237,
   "id": "bca7e794",
   "metadata": {},
   "outputs": [],
   "source": [
    "from keras.layers.core import Dense,Dropout,Activation\n",
    "from keras.layers.recurrent import LSTM"
   ]
  },
  {
   "cell_type": "code",
   "execution_count": 238,
   "id": "6bb05dff",
   "metadata": {},
   "outputs": [],
   "source": [
    "time_step=15\n",
    "model=Sequential()"
   ]
  },
  {
   "cell_type": "code",
   "execution_count": 239,
   "id": "3f20227e",
   "metadata": {},
   "outputs": [],
   "source": [
    "model.add(LSTM(20,input_shape=(1,time_step)))\n",
    "model.add(Dense(1))"
   ]
  },
  {
   "cell_type": "code",
   "execution_count": 240,
   "id": "b5a3df03",
   "metadata": {},
   "outputs": [],
   "source": [
    "model.compile(loss=\"mean_squared_error\",optimizer='adam')"
   ]
  },
  {
   "cell_type": "code",
   "execution_count": 241,
   "id": "ce642d79",
   "metadata": {},
   "outputs": [
    {
     "name": "stdout",
     "output_type": "stream",
     "text": [
      "Epoch 1/100\n",
      "51/51 [==============================] - 1s 620us/step - loss: 0.0265\n",
      "Epoch 2/100\n",
      "51/51 [==============================] - 0s 640us/step - loss: 0.0022\n",
      "Epoch 3/100\n",
      "51/51 [==============================] - 0s 651us/step - loss: 0.0016\n",
      "Epoch 4/100\n",
      "51/51 [==============================] - 0s 657us/step - loss: 0.0015\n",
      "Epoch 5/100\n",
      "51/51 [==============================] - 0s 620us/step - loss: 0.0014\n",
      "Epoch 6/100\n",
      "51/51 [==============================] - 0s 640us/step - loss: 0.0014\n",
      "Epoch 7/100\n",
      "51/51 [==============================] - 0s 620us/step - loss: 0.0014\n",
      "Epoch 8/100\n",
      "51/51 [==============================] - 0s 620us/step - loss: 0.0013\n",
      "Epoch 9/100\n",
      "51/51 [==============================] - 0s 620us/step - loss: 0.0013\n",
      "Epoch 10/100\n",
      "51/51 [==============================] - 0s 620us/step - loss: 0.0012\n",
      "Epoch 11/100\n",
      "51/51 [==============================] - 0s 620us/step - loss: 0.0012\n",
      "Epoch 12/100\n",
      "51/51 [==============================] - 0s 620us/step - loss: 0.0011\n",
      "Epoch 13/100\n",
      "51/51 [==============================] - 0s 620us/step - loss: 0.0011\n",
      "Epoch 14/100\n",
      "51/51 [==============================] - 0s 620us/step - loss: 0.0010\n",
      "Epoch 15/100\n",
      "51/51 [==============================] - 0s 660us/step - loss: 9.9526e-04\n",
      "Epoch 16/100\n",
      "51/51 [==============================] - 0s 620us/step - loss: 9.4724e-04\n",
      "Epoch 17/100\n",
      "51/51 [==============================] - 0s 620us/step - loss: 9.0199e-04\n",
      "Epoch 18/100\n",
      "51/51 [==============================] - 0s 620us/step - loss: 8.6781e-04\n",
      "Epoch 19/100\n",
      "51/51 [==============================] - 0s 620us/step - loss: 8.2496e-04\n",
      "Epoch 20/100\n",
      "51/51 [==============================] - 0s 620us/step - loss: 7.8979e-04\n",
      "Epoch 21/100\n",
      "51/51 [==============================] - 0s 1ms/step - loss: 7.5815e-04\n",
      "Epoch 22/100\n",
      "51/51 [==============================] - 0s 840us/step - loss: 7.2310e-04\n",
      "Epoch 23/100\n",
      "51/51 [==============================] - 0s 680us/step - loss: 6.9112e-04\n",
      "Epoch 24/100\n",
      "51/51 [==============================] - 0s 660us/step - loss: 6.6490e-04\n",
      "Epoch 25/100\n",
      "51/51 [==============================] - 0s 640us/step - loss: 6.3375e-04\n",
      "Epoch 26/100\n",
      "51/51 [==============================] - 0s 660us/step - loss: 6.0878e-04\n",
      "Epoch 27/100\n",
      "51/51 [==============================] - 0s 680us/step - loss: 5.8461e-04\n",
      "Epoch 28/100\n",
      "51/51 [==============================] - 0s 680us/step - loss: 5.7546e-04\n",
      "Epoch 29/100\n",
      "51/51 [==============================] - 0s 720us/step - loss: 5.4951e-04\n",
      "Epoch 30/100\n",
      "51/51 [==============================] - 0s 740us/step - loss: 5.2842e-04\n",
      "Epoch 31/100\n",
      "51/51 [==============================] - 0s 760us/step - loss: 5.0956e-04\n",
      "Epoch 32/100\n",
      "51/51 [==============================] - 0s 740us/step - loss: 4.9439e-04\n",
      "Epoch 33/100\n",
      "51/51 [==============================] - 0s 740us/step - loss: 4.8526e-04\n",
      "Epoch 34/100\n",
      "51/51 [==============================] - 0s 720us/step - loss: 4.7263e-04\n",
      "Epoch 35/100\n",
      "51/51 [==============================] - 0s 720us/step - loss: 4.6296e-04\n",
      "Epoch 36/100\n",
      "51/51 [==============================] - 0s 740us/step - loss: 4.5932e-04\n",
      "Epoch 37/100\n",
      "51/51 [==============================] - 0s 680us/step - loss: 4.4916e-04\n",
      "Epoch 38/100\n",
      "51/51 [==============================] - 0s 700us/step - loss: 4.3839e-04\n",
      "Epoch 39/100\n",
      "51/51 [==============================] - 0s 820us/step - loss: 4.3190e-04\n",
      "Epoch 40/100\n",
      "51/51 [==============================] - 0s 722us/step - loss: 4.1999e-04\n",
      "Epoch 41/100\n",
      "51/51 [==============================] - 0s 780us/step - loss: 4.1795e-04\n",
      "Epoch 42/100\n",
      "51/51 [==============================] - 0s 708us/step - loss: 4.1414e-04\n",
      "Epoch 43/100\n",
      "51/51 [==============================] - 0s 860us/step - loss: 4.1082e-04\n",
      "Epoch 44/100\n",
      "51/51 [==============================] - 0s 620us/step - loss: 4.0272e-04\n",
      "Epoch 45/100\n",
      "51/51 [==============================] - 0s 600us/step - loss: 4.1398e-04\n",
      "Epoch 46/100\n",
      "51/51 [==============================] - 0s 620us/step - loss: 3.9762e-04\n",
      "Epoch 47/100\n",
      "51/51 [==============================] - 0s 660us/step - loss: 3.9560e-04\n",
      "Epoch 48/100\n",
      "51/51 [==============================] - 0s 640us/step - loss: 3.8388e-04\n",
      "Epoch 49/100\n",
      "51/51 [==============================] - 0s 640us/step - loss: 3.8142e-04\n",
      "Epoch 50/100\n",
      "51/51 [==============================] - 0s 620us/step - loss: 3.8320e-04\n",
      "Epoch 51/100\n",
      "51/51 [==============================] - 0s 620us/step - loss: 3.7453e-04\n",
      "Epoch 52/100\n",
      "51/51 [==============================] - 0s 640us/step - loss: 3.7199e-04\n",
      "Epoch 53/100\n",
      "51/51 [==============================] - 0s 680us/step - loss: 3.6980e-04\n",
      "Epoch 54/100\n",
      "51/51 [==============================] - 0s 727us/step - loss: 3.7323e-04\n",
      "Epoch 55/100\n",
      "51/51 [==============================] - 0s 700us/step - loss: 3.6829e-04\n",
      "Epoch 56/100\n",
      "51/51 [==============================] - 0s 640us/step - loss: 3.7027e-04\n",
      "Epoch 57/100\n",
      "51/51 [==============================] - 0s 620us/step - loss: 3.5685e-04\n",
      "Epoch 58/100\n",
      "51/51 [==============================] - 0s 620us/step - loss: 3.6811e-04\n",
      "Epoch 59/100\n",
      "51/51 [==============================] - 0s 620us/step - loss: 3.4752e-04\n",
      "Epoch 60/100\n",
      "51/51 [==============================] - 0s 620us/step - loss: 3.5661e-04\n",
      "Epoch 61/100\n",
      "51/51 [==============================] - 0s 600us/step - loss: 3.6638e-04\n",
      "Epoch 62/100\n",
      "51/51 [==============================] - 0s 600us/step - loss: 3.4911e-04\n",
      "Epoch 63/100\n",
      "51/51 [==============================] - 0s 620us/step - loss: 3.5383e-04\n",
      "Epoch 64/100\n",
      "51/51 [==============================] - 0s 660us/step - loss: 3.4753e-04\n",
      "Epoch 65/100\n",
      "51/51 [==============================] - 0s 720us/step - loss: 3.4298e-04\n",
      "Epoch 66/100\n",
      "51/51 [==============================] - 0s 780us/step - loss: 3.3929e-04\n",
      "Epoch 67/100\n",
      "51/51 [==============================] - 0s 700us/step - loss: 3.3132e-04\n",
      "Epoch 68/100\n",
      "51/51 [==============================] - 0s 668us/step - loss: 3.5442e-04\n",
      "Epoch 69/100\n",
      "51/51 [==============================] - 0s 620us/step - loss: 3.4241e-04\n",
      "Epoch 70/100\n",
      "51/51 [==============================] - 0s 620us/step - loss: 3.2277e-04\n",
      "Epoch 71/100\n",
      "51/51 [==============================] - 0s 600us/step - loss: 3.1849e-04\n",
      "Epoch 72/100\n",
      "51/51 [==============================] - 0s 620us/step - loss: 3.3219e-04\n",
      "Epoch 73/100\n",
      "51/51 [==============================] - 0s 640us/step - loss: 3.2168e-04\n",
      "Epoch 74/100\n",
      "51/51 [==============================] - 0s 660us/step - loss: 3.1465e-04\n",
      "Epoch 75/100\n",
      "51/51 [==============================] - 0s 660us/step - loss: 3.1395e-04\n",
      "Epoch 76/100\n",
      "51/51 [==============================] - 0s 760us/step - loss: 3.2855e-04\n",
      "Epoch 77/100\n",
      "51/51 [==============================] - 0s 697us/step - loss: 3.2214e-04\n",
      "Epoch 78/100\n",
      "51/51 [==============================] - 0s 687us/step - loss: 3.0960e-04\n",
      "Epoch 79/100\n",
      "51/51 [==============================] - 0s 660us/step - loss: 3.0731e-04\n",
      "Epoch 80/100\n",
      "51/51 [==============================] - 0s 620us/step - loss: 3.0687e-04\n",
      "Epoch 81/100\n",
      "51/51 [==============================] - 0s 600us/step - loss: 3.1395e-04\n",
      "Epoch 82/100\n",
      "51/51 [==============================] - 0s 640us/step - loss: 3.1294e-04\n",
      "Epoch 83/100\n",
      "51/51 [==============================] - 0s 620us/step - loss: 3.1258e-04\n",
      "Epoch 84/100\n",
      "51/51 [==============================] - 0s 640us/step - loss: 3.0532e-04\n",
      "Epoch 85/100\n",
      "51/51 [==============================] - 0s 700us/step - loss: 2.9715e-04\n",
      "Epoch 86/100\n",
      "51/51 [==============================] - 0s 760us/step - loss: 2.9938e-04\n",
      "Epoch 87/100\n",
      "51/51 [==============================] - 0s 660us/step - loss: 2.9208e-04\n",
      "Epoch 88/100\n",
      "51/51 [==============================] - 0s 620us/step - loss: 3.0373e-04\n",
      "Epoch 89/100\n",
      "51/51 [==============================] - 0s 640us/step - loss: 3.3188e-04\n",
      "Epoch 90/100\n",
      "51/51 [==============================] - 0s 620us/step - loss: 3.0673e-04\n",
      "Epoch 91/100\n",
      "51/51 [==============================] - 0s 620us/step - loss: 2.8776e-04\n",
      "Epoch 92/100\n",
      "51/51 [==============================] - 0s 600us/step - loss: 2.9573e-04\n",
      "Epoch 93/100\n",
      "51/51 [==============================] - 0s 640us/step - loss: 2.8682e-04\n",
      "Epoch 94/100\n",
      "51/51 [==============================] - 0s 620us/step - loss: 2.9207e-04\n",
      "Epoch 95/100\n",
      "51/51 [==============================] - 0s 680us/step - loss: 2.8896e-04\n",
      "Epoch 96/100\n",
      "51/51 [==============================] - 0s 680us/step - loss: 2.9038e-04\n",
      "Epoch 97/100\n",
      "51/51 [==============================] - 0s 680us/step - loss: 2.8739e-04\n",
      "Epoch 98/100\n",
      "51/51 [==============================] - 0s 640us/step - loss: 2.8670e-04\n",
      "Epoch 99/100\n",
      "51/51 [==============================] - 0s 620us/step - loss: 3.0107e-04\n",
      "Epoch 100/100\n",
      "51/51 [==============================] - 0s 620us/step - loss: 2.8024e-04\n"
     ]
    },
    {
     "data": {
      "text/plain": [
       "<keras.callbacks.History at 0x20e0afe9e80>"
      ]
     },
     "execution_count": 241,
     "metadata": {},
     "output_type": "execute_result"
    }
   ],
   "source": [
    "model.fit(x_train,y_train,epochs=100)"
   ]
  },
  {
   "cell_type": "code",
   "execution_count": 242,
   "id": "046476ad",
   "metadata": {},
   "outputs": [],
   "source": [
    "y_pred=model.predict(x_test)"
   ]
  },
  {
   "cell_type": "code",
   "execution_count": 243,
   "metadata": {},
   "outputs": [
    {
     "data": {
      "text/plain": [
       "(397, 1, 15)"
      ]
     },
     "execution_count": 243,
     "metadata": {},
     "output_type": "execute_result"
    }
   ],
   "source": [
    "x_test.shape"
   ]
  },
  {
   "cell_type": "code",
   "execution_count": 244,
   "id": "7b861620",
   "metadata": {},
   "outputs": [
    {
     "data": {
      "text/plain": [
       "array([[0.8754963 ],\n",
       "       [0.88322866],\n",
       "       [0.88472396],\n",
       "       [0.88326377],\n",
       "       [0.88380694],\n",
       "       [0.8855601 ],\n",
       "       [0.88309485],\n",
       "       [0.8730697 ],\n",
       "       [0.87011653],\n",
       "       [0.8727413 ],\n",
       "       [0.86865115],\n",
       "       [0.86694604],\n",
       "       [0.86113256],\n",
       "       [0.856315  ],\n",
       "       [0.8779717 ],\n",
       "       [0.889829  ],\n",
       "       [0.90158695],\n",
       "       [0.90918666],\n",
       "       [0.91112053],\n",
       "       [0.9139956 ],\n",
       "       [0.9110581 ],\n",
       "       [0.927599  ],\n",
       "       [0.9348994 ],\n",
       "       [0.93772614],\n",
       "       [0.94737756],\n",
       "       [0.9629705 ],\n",
       "       [0.9709244 ],\n",
       "       [0.9700192 ],\n",
       "       [0.9674889 ],\n",
       "       [0.9613048 ],\n",
       "       [0.96016765],\n",
       "       [0.9582326 ],\n",
       "       [0.96322954],\n",
       "       [0.9636106 ],\n",
       "       [0.95786697],\n",
       "       [0.9614162 ],\n",
       "       [0.9740674 ],\n",
       "       [0.98145306],\n",
       "       [0.98335123],\n",
       "       [0.9816345 ],\n",
       "       [0.98016876],\n",
       "       [0.97369254],\n",
       "       [0.9419606 ],\n",
       "       [0.9380693 ],\n",
       "       [0.9360444 ],\n",
       "       [0.93105376],\n",
       "       [0.920659  ],\n",
       "       [0.9179419 ],\n",
       "       [0.9234001 ],\n",
       "       [0.9282977 ],\n",
       "       [0.9305534 ],\n",
       "       [0.9328275 ],\n",
       "       [0.93316865],\n",
       "       [0.9301634 ],\n",
       "       [0.92861897],\n",
       "       [0.93008846],\n",
       "       [0.9362288 ],\n",
       "       [0.9445172 ],\n",
       "       [0.95599264],\n",
       "       [0.96274817],\n",
       "       [0.9704542 ],\n",
       "       [0.975943  ],\n",
       "       [0.97565454],\n",
       "       [0.96258277],\n",
       "       [0.94934946],\n",
       "       [0.94584   ],\n",
       "       [0.9332437 ],\n",
       "       [0.93280584],\n",
       "       [0.9375542 ],\n",
       "       [0.9416075 ],\n",
       "       [0.94872147],\n",
       "       [0.9424657 ],\n",
       "       [0.9471973 ],\n",
       "       [0.9429913 ],\n",
       "       [0.9467011 ],\n",
       "       [0.94923717],\n",
       "       [0.94630235],\n",
       "       [0.9620358 ],\n",
       "       [0.958353  ],\n",
       "       [0.9693281 ],\n",
       "       [0.971895  ],\n",
       "       [0.9723763 ],\n",
       "       [0.9619487 ],\n",
       "       [0.9518742 ],\n",
       "       [0.9368002 ],\n",
       "       [0.9319366 ],\n",
       "       [0.93131363],\n",
       "       [0.9313389 ],\n",
       "       [0.9271844 ],\n",
       "       [0.9272254 ],\n",
       "       [0.9319841 ],\n",
       "       [0.93114316],\n",
       "       [0.93291444],\n",
       "       [0.9389263 ],\n",
       "       [0.94025666],\n",
       "       [0.9366899 ],\n",
       "       [0.93558925],\n",
       "       [0.93505865],\n",
       "       [0.9019294 ],\n",
       "       [0.8823547 ],\n",
       "       [0.8805152 ],\n",
       "       [0.88999826],\n",
       "       [0.9051901 ],\n",
       "       [0.9189944 ],\n",
       "       [0.92288864],\n",
       "       [0.90688604],\n",
       "       [0.8948952 ],\n",
       "       [0.8925101 ],\n",
       "       [0.8943847 ],\n",
       "       [0.89909875],\n",
       "       [0.9074564 ],\n",
       "       [0.9114186 ],\n",
       "       [0.89324856],\n",
       "       [0.87437135],\n",
       "       [0.8670631 ],\n",
       "       [0.8574714 ],\n",
       "       [0.8448743 ],\n",
       "       [0.8376489 ],\n",
       "       [0.8473937 ],\n",
       "       [0.8100677 ],\n",
       "       [0.7911409 ],\n",
       "       [0.77565205],\n",
       "       [0.7698901 ],\n",
       "       [0.7553548 ],\n",
       "       [0.759913  ],\n",
       "       [0.782403  ],\n",
       "       [0.79560554],\n",
       "       [0.8014316 ],\n",
       "       [0.8097398 ],\n",
       "       [0.81053835],\n",
       "       [0.8023264 ],\n",
       "       [0.81344604],\n",
       "       [0.8079014 ],\n",
       "       [0.7505823 ],\n",
       "       [0.7129664 ],\n",
       "       [0.6939443 ],\n",
       "       [0.69543606],\n",
       "       [0.7106493 ],\n",
       "       [0.71696424],\n",
       "       [0.71554154],\n",
       "       [0.7309157 ],\n",
       "       [0.7335482 ],\n",
       "       [0.73139304],\n",
       "       [0.734591  ],\n",
       "       [0.72881234],\n",
       "       [0.7265864 ],\n",
       "       [0.72039884],\n",
       "       [0.7358213 ],\n",
       "       [0.73845977],\n",
       "       [0.7615476 ],\n",
       "       [0.7732294 ],\n",
       "       [0.77509624],\n",
       "       [0.78192204],\n",
       "       [0.7814823 ],\n",
       "       [0.7696032 ],\n",
       "       [0.76568455],\n",
       "       [0.76530296],\n",
       "       [0.7745152 ],\n",
       "       [0.783381  ],\n",
       "       [0.7891596 ],\n",
       "       [0.7885897 ],\n",
       "       [0.73455924],\n",
       "       [0.69514203],\n",
       "       [0.68046397],\n",
       "       [0.68257344],\n",
       "       [0.69555044],\n",
       "       [0.69467646],\n",
       "       [0.6934866 ],\n",
       "       [0.6919795 ],\n",
       "       [0.6871224 ],\n",
       "       [0.683089  ],\n",
       "       [0.68511206],\n",
       "       [0.68946356],\n",
       "       [0.69043845],\n",
       "       [0.6819841 ],\n",
       "       [0.6917698 ],\n",
       "       [0.69994694],\n",
       "       [0.68962544],\n",
       "       [0.6831301 ],\n",
       "       [0.6917826 ],\n",
       "       [0.6959308 ],\n",
       "       [0.68567187],\n",
       "       [0.6814026 ],\n",
       "       [0.69985586],\n",
       "       [0.70890546],\n",
       "       [0.70911247],\n",
       "       [0.71343607],\n",
       "       [0.71772516],\n",
       "       [0.7123687 ],\n",
       "       [0.64290714],\n",
       "       [0.60193104],\n",
       "       [0.5728677 ],\n",
       "       [0.55946034],\n",
       "       [0.5560594 ],\n",
       "       [0.5591695 ],\n",
       "       [0.5821181 ],\n",
       "       [0.6011489 ],\n",
       "       [0.6176645 ],\n",
       "       [0.63741904],\n",
       "       [0.6437649 ],\n",
       "       [0.6391948 ],\n",
       "       [0.64005595],\n",
       "       [0.6332107 ],\n",
       "       [0.6333617 ],\n",
       "       [0.6259382 ],\n",
       "       [0.62416655],\n",
       "       [0.62743944],\n",
       "       [0.63940907],\n",
       "       [0.64288   ],\n",
       "       [0.64542526],\n",
       "       [0.65216964],\n",
       "       [0.6481929 ],\n",
       "       [0.6483498 ],\n",
       "       [0.65136164],\n",
       "       [0.6467405 ],\n",
       "       [0.6306786 ],\n",
       "       [0.6133008 ],\n",
       "       [0.6268175 ],\n",
       "       [0.6282522 ],\n",
       "       [0.62629324],\n",
       "       [0.6225888 ],\n",
       "       [0.6275235 ],\n",
       "       [0.62615734],\n",
       "       [0.616334  ],\n",
       "       [0.6131817 ],\n",
       "       [0.6157007 ],\n",
       "       [0.6138795 ],\n",
       "       [0.5960375 ],\n",
       "       [0.5974638 ],\n",
       "       [0.59389704],\n",
       "       [0.5858128 ],\n",
       "       [0.5513982 ],\n",
       "       [0.5406749 ],\n",
       "       [0.54515433],\n",
       "       [0.54494876],\n",
       "       [0.5558472 ],\n",
       "       [0.5662212 ],\n",
       "       [0.573126  ],\n",
       "       [0.57325554],\n",
       "       [0.5707956 ],\n",
       "       [0.5755082 ],\n",
       "       [0.5796407 ],\n",
       "       [0.5781557 ],\n",
       "       [0.57498187],\n",
       "       [0.574568  ],\n",
       "       [0.595818  ],\n",
       "       [0.60287887],\n",
       "       [0.6069163 ],\n",
       "       [0.60534936],\n",
       "       [0.605889  ],\n",
       "       [0.6066218 ],\n",
       "       [0.60470456],\n",
       "       [0.58033884],\n",
       "       [0.57346207],\n",
       "       [0.57132244],\n",
       "       [0.569592  ],\n",
       "       [0.5745212 ],\n",
       "       [0.5771883 ],\n",
       "       [0.58164454],\n",
       "       [0.6022223 ],\n",
       "       [0.62549317],\n",
       "       [0.6503187 ],\n",
       "       [0.6594999 ],\n",
       "       [0.65180033],\n",
       "       [0.6508984 ],\n",
       "       [0.6508315 ],\n",
       "       [0.6739608 ],\n",
       "       [0.6866076 ],\n",
       "       [0.6965327 ],\n",
       "       [0.6994644 ],\n",
       "       [0.6948535 ],\n",
       "       [0.69286925],\n",
       "       [0.6911487 ],\n",
       "       [0.69585305],\n",
       "       [0.69708604],\n",
       "       [0.6979397 ],\n",
       "       [0.6926274 ],\n",
       "       [0.6931715 ],\n",
       "       [0.6929587 ],\n",
       "       [0.6938675 ],\n",
       "       [0.69548506],\n",
       "       [0.69283265],\n",
       "       [0.6955395 ],\n",
       "       [0.6940768 ],\n",
       "       [0.69391394],\n",
       "       [0.6967888 ],\n",
       "       [0.70014304],\n",
       "       [0.62450427],\n",
       "       [0.57223815],\n",
       "       [0.54950625],\n",
       "       [0.5485292 ],\n",
       "       [0.5478594 ],\n",
       "       [0.54940176],\n",
       "       [0.5717868 ],\n",
       "       [0.570021  ],\n",
       "       [0.57052046],\n",
       "       [0.5747456 ],\n",
       "       [0.5821375 ],\n",
       "       [0.58015734],\n",
       "       [0.59577364],\n",
       "       [0.6015504 ],\n",
       "       [0.5847108 ],\n",
       "       [0.5641851 ],\n",
       "       [0.51649714],\n",
       "       [0.49065143],\n",
       "       [0.48396355],\n",
       "       [0.48962215],\n",
       "       [0.5055949 ],\n",
       "       [0.50821793],\n",
       "       [0.5121618 ],\n",
       "       [0.5110504 ],\n",
       "       [0.51276577],\n",
       "       [0.5106049 ],\n",
       "       [0.49946907],\n",
       "       [0.48639965],\n",
       "       [0.49008647],\n",
       "       [0.49852246],\n",
       "       [0.5090603 ],\n",
       "       [0.50957835],\n",
       "       [0.53739685],\n",
       "       [0.56217575],\n",
       "       [0.5388304 ],\n",
       "       [0.55824405],\n",
       "       [0.57688385],\n",
       "       [0.580288  ],\n",
       "       [0.57888526],\n",
       "       [0.5753091 ],\n",
       "       [0.57125247],\n",
       "       [0.5683859 ],\n",
       "       [0.60724324],\n",
       "       [0.6255491 ],\n",
       "       [0.63863283],\n",
       "       [0.63066524],\n",
       "       [0.6119079 ],\n",
       "       [0.61007994],\n",
       "       [0.61316633],\n",
       "       [0.61743456],\n",
       "       [0.6269631 ],\n",
       "       [0.6064754 ],\n",
       "       [0.59017843],\n",
       "       [0.5825414 ],\n",
       "       [0.59287065],\n",
       "       [0.6027533 ],\n",
       "       [0.60156924],\n",
       "       [0.60076064],\n",
       "       [0.60065085],\n",
       "       [0.6046129 ],\n",
       "       [0.60569257],\n",
       "       [0.61777085],\n",
       "       [0.6258209 ],\n",
       "       [0.64653164],\n",
       "       [0.6490726 ],\n",
       "       [0.65148   ],\n",
       "       [0.6498695 ],\n",
       "       [0.6549681 ],\n",
       "       [0.6589883 ],\n",
       "       [0.6591209 ],\n",
       "       [0.68160456],\n",
       "       [0.7000274 ],\n",
       "       [0.7241799 ],\n",
       "       [0.7142623 ],\n",
       "       [0.71134204],\n",
       "       [0.7013454 ],\n",
       "       [0.69552654],\n",
       "       [0.6918517 ],\n",
       "       [0.6954284 ],\n",
       "       [0.6973196 ],\n",
       "       [0.70041215],\n",
       "       [0.6987136 ],\n",
       "       [0.69233245],\n",
       "       [0.6840829 ],\n",
       "       [0.66136783],\n",
       "       [0.6500537 ],\n",
       "       [0.64849573],\n",
       "       [0.6528568 ],\n",
       "       [0.6540877 ],\n",
       "       [0.6583833 ],\n",
       "       [0.65524966],\n",
       "       [0.6364772 ],\n",
       "       [0.6223112 ],\n",
       "       [0.6196522 ],\n",
       "       [0.6104508 ],\n",
       "       [0.5910223 ],\n",
       "       [0.59320205],\n",
       "       [0.5953403 ],\n",
       "       [0.6069234 ],\n",
       "       [0.6157973 ],\n",
       "       [0.614351  ],\n",
       "       [0.61273384],\n",
       "       [0.6046905 ],\n",
       "       [0.60041803],\n",
       "       [0.5971965 ],\n",
       "       [0.6347025 ],\n",
       "       [0.6760885 ],\n",
       "       [0.69145614],\n",
       "       [0.6888803 ],\n",
       "       [0.6880799 ]], dtype=float32)"
      ]
     },
     "execution_count": 244,
     "metadata": {},
     "output_type": "execute_result"
    }
   ],
   "source": [
    "y_pred"
   ]
  },
  {
   "cell_type": "code",
   "execution_count": 245,
   "id": "1538df4d",
   "metadata": {},
   "outputs": [],
   "source": [
    "y_pred_RNN=min_max_scaler.inverse_transform(y_pred)"
   ]
  },
  {
   "cell_type": "code",
   "execution_count": 246,
   "id": "989cc7a4",
   "metadata": {},
   "outputs": [
    {
     "data": {
      "text/plain": [
       "array([[366.29773],\n",
       "       [367.37228],\n",
       "       [367.58008],\n",
       "       [367.3772 ],\n",
       "       [367.45267],\n",
       "       [367.6963 ],\n",
       "       [367.3537 ],\n",
       "       [365.9605 ],\n",
       "       [365.5501 ],\n",
       "       [365.91486],\n",
       "       [365.34647],\n",
       "       [365.1095 ],\n",
       "       [364.3016 ],\n",
       "       [363.63208],\n",
       "       [366.64172],\n",
       "       [368.28952],\n",
       "       [369.92355],\n",
       "       [370.97968],\n",
       "       [371.2484 ],\n",
       "       [371.64798],\n",
       "       [371.23978],\n",
       "       [373.53842],\n",
       "       [374.55298],\n",
       "       [374.9458 ],\n",
       "       [376.28705],\n",
       "       [378.454  ],\n",
       "       [379.55936],\n",
       "       [379.43356],\n",
       "       [379.0819 ],\n",
       "       [378.22253],\n",
       "       [378.0645 ],\n",
       "       [377.7956 ],\n",
       "       [378.49   ],\n",
       "       [378.54297],\n",
       "       [377.74478],\n",
       "       [378.23804],\n",
       "       [379.99615],\n",
       "       [381.02252],\n",
       "       [381.28632],\n",
       "       [381.04773],\n",
       "       [380.8441 ],\n",
       "       [379.94403],\n",
       "       [375.53427],\n",
       "       [374.9935 ],\n",
       "       [374.7121 ],\n",
       "       [374.01852],\n",
       "       [372.574  ],\n",
       "       [372.19638],\n",
       "       [372.95493],\n",
       "       [373.63556],\n",
       "       [373.94904],\n",
       "       [374.26505],\n",
       "       [374.31247],\n",
       "       [373.8948 ],\n",
       "       [373.68018],\n",
       "       [373.8844 ],\n",
       "       [374.73773],\n",
       "       [375.88956],\n",
       "       [377.4843 ],\n",
       "       [378.4231 ],\n",
       "       [379.49402],\n",
       "       [380.25684],\n",
       "       [380.21674],\n",
       "       [378.40015],\n",
       "       [376.5611 ],\n",
       "       [376.07336],\n",
       "       [374.3229 ],\n",
       "       [374.26202],\n",
       "       [374.9219 ],\n",
       "       [375.4852 ],\n",
       "       [376.47382],\n",
       "       [375.6045 ],\n",
       "       [376.262  ],\n",
       "       [375.6775 ],\n",
       "       [376.19305],\n",
       "       [376.5455 ],\n",
       "       [376.13766],\n",
       "       [378.3241 ],\n",
       "       [377.81235],\n",
       "       [379.33755],\n",
       "       [379.69424],\n",
       "       [379.76114],\n",
       "       [378.312  ],\n",
       "       [376.912  ],\n",
       "       [374.81714],\n",
       "       [374.14124],\n",
       "       [374.05466],\n",
       "       [374.05817],\n",
       "       [373.4808 ],\n",
       "       [373.4865 ],\n",
       "       [374.14786],\n",
       "       [374.03094],\n",
       "       [374.27713],\n",
       "       [375.11258],\n",
       "       [375.29745],\n",
       "       [374.8018 ],\n",
       "       [374.64886],\n",
       "       [374.5751 ],\n",
       "       [369.97113],\n",
       "       [367.25085],\n",
       "       [366.99518],\n",
       "       [368.31305],\n",
       "       [370.42426],\n",
       "       [372.34265],\n",
       "       [372.88382],\n",
       "       [370.65997],\n",
       "       [368.9936 ],\n",
       "       [368.66214],\n",
       "       [368.92264],\n",
       "       [369.57776],\n",
       "       [370.73923],\n",
       "       [371.28986],\n",
       "       [368.76477],\n",
       "       [366.1414 ],\n",
       "       [365.12576],\n",
       "       [363.79282],\n",
       "       [362.0422 ],\n",
       "       [361.0381 ],\n",
       "       [362.39233],\n",
       "       [357.2051 ],\n",
       "       [354.57486],\n",
       "       [352.42236],\n",
       "       [351.62164],\n",
       "       [349.60168],\n",
       "       [350.2351 ],\n",
       "       [353.36057],\n",
       "       [355.19528],\n",
       "       [356.00497],\n",
       "       [357.15955],\n",
       "       [357.2705 ],\n",
       "       [356.1293 ],\n",
       "       [357.67462],\n",
       "       [356.90405],\n",
       "       [348.93842],\n",
       "       [343.71097],\n",
       "       [341.06744],\n",
       "       [341.27475],\n",
       "       [343.38895],\n",
       "       [344.26654],\n",
       "       [344.06882],\n",
       "       [346.20538],\n",
       "       [346.5712 ],\n",
       "       [346.2717 ],\n",
       "       [346.71613],\n",
       "       [345.91306],\n",
       "       [345.6037 ],\n",
       "       [344.74384],\n",
       "       [346.8871 ],\n",
       "       [347.25378],\n",
       "       [350.46228],\n",
       "       [352.0857 ],\n",
       "       [352.34512],\n",
       "       [353.29373],\n",
       "       [353.2326 ],\n",
       "       [351.5818 ],\n",
       "       [351.0372 ],\n",
       "       [350.98416],\n",
       "       [352.26437],\n",
       "       [353.49646],\n",
       "       [354.2995 ],\n",
       "       [354.22034],\n",
       "       [346.7117 ],\n",
       "       [341.2339 ],\n",
       "       [339.1941 ],\n",
       "       [339.4872 ],\n",
       "       [341.29065],\n",
       "       [341.1692 ],\n",
       "       [341.0038 ],\n",
       "       [340.7944 ],\n",
       "       [340.11942],\n",
       "       [339.5589 ],\n",
       "       [339.84003],\n",
       "       [340.44476],\n",
       "       [340.58026],\n",
       "       [339.40536],\n",
       "       [340.76526],\n",
       "       [341.90164],\n",
       "       [340.46725],\n",
       "       [339.56458],\n",
       "       [340.76703],\n",
       "       [341.3435 ],\n",
       "       [339.91782],\n",
       "       [339.32455],\n",
       "       [341.88898],\n",
       "       [343.1466 ],\n",
       "       [343.17535],\n",
       "       [343.7762 ],\n",
       "       [344.37225],\n",
       "       [343.6279 ],\n",
       "       [333.97482],\n",
       "       [328.28036],\n",
       "       [324.24142],\n",
       "       [322.37823],\n",
       "       [321.90558],\n",
       "       [322.3378 ],\n",
       "       [325.52695],\n",
       "       [328.17166],\n",
       "       [330.46686],\n",
       "       [333.21213],\n",
       "       [334.09402],\n",
       "       [333.4589 ],\n",
       "       [333.57858],\n",
       "       [332.6273 ],\n",
       "       [332.64825],\n",
       "       [331.61664],\n",
       "       [331.37042],\n",
       "       [331.8253 ],\n",
       "       [333.48868],\n",
       "       [333.97104],\n",
       "       [334.32477],\n",
       "       [335.26202],\n",
       "       [334.70938],\n",
       "       [334.73117],\n",
       "       [335.14975],\n",
       "       [334.50754],\n",
       "       [332.27542],\n",
       "       [329.8604 ],\n",
       "       [331.73883],\n",
       "       [331.93823],\n",
       "       [331.666  ],\n",
       "       [331.15118],\n",
       "       [331.83694],\n",
       "       [331.6471 ],\n",
       "       [330.28195],\n",
       "       [329.84384],\n",
       "       [330.19394],\n",
       "       [329.94083],\n",
       "       [327.46133],\n",
       "       [327.65955],\n",
       "       [327.16388],\n",
       "       [326.0404 ],\n",
       "       [321.25784],\n",
       "       [319.7676 ],\n",
       "       [320.3901 ],\n",
       "       [320.36154],\n",
       "       [321.8761 ],\n",
       "       [323.31778],\n",
       "       [324.27734],\n",
       "       [324.29532],\n",
       "       [323.95346],\n",
       "       [324.60837],\n",
       "       [325.18268],\n",
       "       [324.97632],\n",
       "       [324.53525],\n",
       "       [324.47772],\n",
       "       [327.43085],\n",
       "       [328.41208],\n",
       "       [328.97314],\n",
       "       [328.7554 ],\n",
       "       [328.8304 ],\n",
       "       [328.93222],\n",
       "       [328.6658 ],\n",
       "       [325.2797 ],\n",
       "       [324.32404],\n",
       "       [324.0267 ],\n",
       "       [323.78622],\n",
       "       [324.4712 ],\n",
       "       [324.84186],\n",
       "       [325.46115],\n",
       "       [328.32083],\n",
       "       [331.55478],\n",
       "       [335.0048 ],\n",
       "       [336.2807 ],\n",
       "       [335.21072],\n",
       "       [335.08536],\n",
       "       [335.07605],\n",
       "       [338.2903 ],\n",
       "       [340.04788],\n",
       "       [341.42715],\n",
       "       [341.83456],\n",
       "       [341.19382],\n",
       "       [340.91803],\n",
       "       [340.67896],\n",
       "       [341.3327 ],\n",
       "       [341.50406],\n",
       "       [341.62268],\n",
       "       [340.88443],\n",
       "       [340.96005],\n",
       "       [340.93045],\n",
       "       [341.05676],\n",
       "       [341.2816 ],\n",
       "       [340.91296],\n",
       "       [341.28912],\n",
       "       [341.08585],\n",
       "       [341.06323],\n",
       "       [341.46274],\n",
       "       [341.9289 ],\n",
       "       [331.4174 ],\n",
       "       [324.15396],\n",
       "       [320.99487],\n",
       "       [320.8591 ],\n",
       "       [320.76602],\n",
       "       [320.98038],\n",
       "       [324.09122],\n",
       "       [323.84583],\n",
       "       [323.91522],\n",
       "       [324.5024 ],\n",
       "       [325.52966],\n",
       "       [325.25446],\n",
       "       [327.42468],\n",
       "       [328.22745],\n",
       "       [325.88727],\n",
       "       [323.03482],\n",
       "       [316.40762],\n",
       "       [312.81583],\n",
       "       [311.8864 ],\n",
       "       [312.6728 ],\n",
       "       [314.89255],\n",
       "       [315.25705],\n",
       "       [315.8051 ],\n",
       "       [315.6507 ],\n",
       "       [315.88904],\n",
       "       [315.58878],\n",
       "       [314.04123],\n",
       "       [312.22498],\n",
       "       [312.73734],\n",
       "       [313.9097 ],\n",
       "       [315.37415],\n",
       "       [315.4461 ],\n",
       "       [319.31207],\n",
       "       [322.75558],\n",
       "       [319.51126],\n",
       "       [322.20917],\n",
       "       [324.79956],\n",
       "       [325.2726 ],\n",
       "       [325.0777 ],\n",
       "       [324.58072],\n",
       "       [324.01694],\n",
       "       [323.6186 ],\n",
       "       [329.01862],\n",
       "       [331.56256],\n",
       "       [333.3808 ],\n",
       "       [332.27356],\n",
       "       [329.66687],\n",
       "       [329.41284],\n",
       "       [329.84174],\n",
       "       [330.43488],\n",
       "       [331.75906],\n",
       "       [328.9119 ],\n",
       "       [326.64713],\n",
       "       [325.5858 ],\n",
       "       [327.02124],\n",
       "       [328.39462],\n",
       "       [328.23007],\n",
       "       [328.11774],\n",
       "       [328.10245],\n",
       "       [328.65305],\n",
       "       [328.8031 ],\n",
       "       [330.48163],\n",
       "       [331.60034],\n",
       "       [334.47852],\n",
       "       [334.83163],\n",
       "       [335.16617],\n",
       "       [334.94235],\n",
       "       [335.6509 ],\n",
       "       [336.2096 ],\n",
       "       [336.22803],\n",
       "       [339.3526 ],\n",
       "       [341.9128 ],\n",
       "       [345.2693 ],\n",
       "       [343.89102],\n",
       "       [343.48523],\n",
       "       [342.09598],\n",
       "       [341.28735],\n",
       "       [340.77664],\n",
       "       [341.27368],\n",
       "       [341.5365 ],\n",
       "       [341.96628],\n",
       "       [341.73022],\n",
       "       [340.84344],\n",
       "       [339.69702],\n",
       "       [336.5403 ],\n",
       "       [334.968  ],\n",
       "       [334.75146],\n",
       "       [335.3575 ],\n",
       "       [335.5286 ],\n",
       "       [336.12555],\n",
       "       [335.69003],\n",
       "       [333.08124],\n",
       "       [331.11258],\n",
       "       [330.74307],\n",
       "       [329.46436],\n",
       "       [326.76437],\n",
       "       [327.06732],\n",
       "       [327.36444],\n",
       "       [328.97415],\n",
       "       [330.20737],\n",
       "       [330.00638],\n",
       "       [329.78162],\n",
       "       [328.66385],\n",
       "       [328.0701 ],\n",
       "       [327.6224 ],\n",
       "       [332.8346 ],\n",
       "       [338.58603],\n",
       "       [340.72165],\n",
       "       [340.36368],\n",
       "       [340.25247]], dtype=float32)"
      ]
     },
     "execution_count": 246,
     "metadata": {},
     "output_type": "execute_result"
    }
   ],
   "source": [
    "y_pred_RNN"
   ]
  },
  {
   "cell_type": "code",
   "execution_count": 247,
   "id": "ebd6a6e9",
   "metadata": {},
   "outputs": [],
   "source": [
    "y_test=np.expand_dims(y_test,axis=1)"
   ]
  },
  {
   "cell_type": "code",
   "execution_count": 248,
   "id": "ac029a18",
   "metadata": {},
   "outputs": [],
   "source": [
    "y_test=min_max_scaler.inverse_transform(y_test)"
   ]
  },
  {
   "cell_type": "code",
   "execution_count": 249,
   "id": "d95b2699",
   "metadata": {},
   "outputs": [
    {
     "data": {
      "text/plain": [
       "array([[368.57998657],\n",
       "       [368.67999268],\n",
       "       [368.42498779],\n",
       "       [368.47000122],\n",
       "       [368.79998779],\n",
       "       [368.42999268],\n",
       "       [366.41000366],\n",
       "       [366.61999512],\n",
       "       [367.45999146],\n",
       "       [366.4750061 ],\n",
       "       [366.26000977],\n",
       "       [365.01998901],\n",
       "       [364.35998535],\n",
       "       [370.17999268],\n",
       "       [370.25      ],\n",
       "       [371.51501465],\n",
       "       [372.3500061 ],\n",
       "       [372.36499023],\n",
       "       [373.20001221],\n",
       "       [372.63000488],\n",
       "       [375.92401123],\n",
       "       [376.        ],\n",
       "       [376.3500061 ],\n",
       "       [378.66000366],\n",
       "       [380.88430786],\n",
       "       [381.18499756],\n",
       "       [380.66000366],\n",
       "       [380.53988647],\n",
       "       [379.3999939 ],\n",
       "       [380.16000366],\n",
       "       [379.91000366],\n",
       "       [380.67001343],\n",
       "       [380.42001343],\n",
       "       [379.29998779],\n",
       "       [380.97000122],\n",
       "       [383.29000854],\n",
       "       [383.48498535],\n",
       "       [383.6000061 ],\n",
       "       [383.15200806],\n",
       "       [383.16000366],\n",
       "       [382.04998779],\n",
       "       [375.5249939 ],\n",
       "       [377.58349609],\n",
       "       [377.30999756],\n",
       "       [376.20999146],\n",
       "       [374.3999939 ],\n",
       "       [374.45001221],\n",
       "       [375.32998657],\n",
       "       [376.88000488],\n",
       "       [376.5255127 ],\n",
       "       [376.32998657],\n",
       "       [376.17010498],\n",
       "       [376.35998535],\n",
       "       [376.01998901],\n",
       "       [376.25      ],\n",
       "       [376.73999023],\n",
       "       [378.66000366],\n",
       "       [380.3999939 ],\n",
       "       [380.73498535],\n",
       "       [381.70001221],\n",
       "       [382.5       ],\n",
       "       [382.10998535],\n",
       "       [379.5       ],\n",
       "       [377.79000854],\n",
       "       [378.23999023],\n",
       "       [375.66149902],\n",
       "       [376.86990356],\n",
       "       [377.54998779],\n",
       "       [377.61999512],\n",
       "       [379.19000244],\n",
       "       [377.32000732],\n",
       "       [378.77999878],\n",
       "       [377.54800415],\n",
       "       [378.95001221],\n",
       "       [379.1000061 ],\n",
       "       [378.01998901],\n",
       "       [381.83990479],\n",
       "       [379.45001221],\n",
       "       [382.36999512],\n",
       "       [381.92001343],\n",
       "       [381.6499939 ],\n",
       "       [379.6000061 ],\n",
       "       [378.70001221],\n",
       "       [375.97000122],\n",
       "       [376.48999023],\n",
       "       [376.5       ],\n",
       "       [376.3999939 ],\n",
       "       [375.1000061 ],\n",
       "       [376.05999756],\n",
       "       [376.51000977],\n",
       "       [376.44500732],\n",
       "       [376.38000488],\n",
       "       [377.92001343],\n",
       "       [377.26998901],\n",
       "       [376.89089966],\n",
       "       [376.73999023],\n",
       "       [376.57998657],\n",
       "       [368.96420288],\n",
       "       [368.70999146],\n",
       "       [369.58999634],\n",
       "       [371.30010986],\n",
       "       [373.43399048],\n",
       "       [375.08999634],\n",
       "       [373.93978882],\n",
       "       [371.20001221],\n",
       "       [370.4887085 ],\n",
       "       [370.82998657],\n",
       "       [370.66000366],\n",
       "       [372.00500488],\n",
       "       [373.06500244],\n",
       "       [373.1499939 ],\n",
       "       [368.47000122],\n",
       "       [366.63000488],\n",
       "       [366.51998901],\n",
       "       [364.95599365],\n",
       "       [363.14498901],\n",
       "       [362.65240479],\n",
       "       [364.72000122],\n",
       "       [355.66000366],\n",
       "       [355.7401123 ],\n",
       "       [353.45001221],\n",
       "       [352.94049072],\n",
       "       [350.47000122],\n",
       "       [353.17001343],\n",
       "       [355.70999146],\n",
       "       [357.01998901],\n",
       "       [357.08999634],\n",
       "       [358.60998535],\n",
       "       [357.11169434],\n",
       "       [356.67010498],\n",
       "       [359.6499939 ],\n",
       "       [357.25      ],\n",
       "       [344.45001221],\n",
       "       [343.67999268],\n",
       "       [342.0526123 ],\n",
       "       [343.33840942],\n",
       "       [345.58999634],\n",
       "       [345.04000854],\n",
       "       [343.08999634],\n",
       "       [348.67001343],\n",
       "       [347.42498779],\n",
       "       [346.33358765],\n",
       "       [346.76501465],\n",
       "       [346.1000061 ],\n",
       "       [346.25      ],\n",
       "       [345.90948486],\n",
       "       [347.78500366],\n",
       "       [346.95999146],\n",
       "       [352.05999756],\n",
       "       [352.70999146],\n",
       "       [351.86999512],\n",
       "       [353.45999146],\n",
       "       [352.91000366],\n",
       "       [350.79998779],\n",
       "       [351.51000977],\n",
       "       [351.13000488],\n",
       "       [353.1499939 ],\n",
       "       [354.19000244],\n",
       "       [354.83999634],\n",
       "       [353.66000366],\n",
       "       [342.73999023],\n",
       "       [339.9750061 ],\n",
       "       [340.66000366],\n",
       "       [341.29998779],\n",
       "       [343.10360718],\n",
       "       [341.5       ],\n",
       "       [340.6499939 ],\n",
       "       [341.30999756],\n",
       "       [340.83999634],\n",
       "       [339.57000732],\n",
       "       [340.09500122],\n",
       "       [341.34500122],\n",
       "       [341.36499023],\n",
       "       [339.64001465],\n",
       "       [341.48980713],\n",
       "       [342.        ],\n",
       "       [339.54000854],\n",
       "       [339.47000122],\n",
       "       [341.77999878],\n",
       "       [341.23001099],\n",
       "       [339.23999023],\n",
       "       [339.42498779],\n",
       "       [343.17999268],\n",
       "       [343.25      ],\n",
       "       [343.17080688],\n",
       "       [343.79000854],\n",
       "       [344.1000061 ],\n",
       "       [343.        ],\n",
       "       [329.52999878],\n",
       "       [327.38000488],\n",
       "       [324.07998657],\n",
       "       [323.85998535],\n",
       "       [323.55499268],\n",
       "       [323.65499878],\n",
       "       [326.32000732],\n",
       "       [329.6499939 ],\n",
       "       [331.63531494],\n",
       "       [334.10501099],\n",
       "       [333.10998535],\n",
       "       [333.20999146],\n",
       "       [334.16610718],\n",
       "       [332.9750061 ],\n",
       "       [332.17999268],\n",
       "       [331.1257019 ],\n",
       "       [331.08889771],\n",
       "       [332.03399658],\n",
       "       [334.07501221],\n",
       "       [333.26998901],\n",
       "       [333.69000244],\n",
       "       [335.32998657],\n",
       "       [334.01998901],\n",
       "       [334.69000244],\n",
       "       [335.20999146],\n",
       "       [333.7026062 ],\n",
       "       [331.17999268],\n",
       "       [329.22000122],\n",
       "       [333.2572937 ],\n",
       "       [331.67001343],\n",
       "       [331.3999939 ],\n",
       "       [330.64358521],\n",
       "       [332.08999634],\n",
       "       [331.26501465],\n",
       "       [330.        ],\n",
       "       [329.58499146],\n",
       "       [330.23999023],\n",
       "       [329.83999634],\n",
       "       [326.8500061 ],\n",
       "       [328.01431274],\n",
       "       [326.80999756],\n",
       "       [325.39001465],\n",
       "       [319.59008789],\n",
       "       [320.05999756],\n",
       "       [321.21499634],\n",
       "       [320.91558838],\n",
       "       [323.        ],\n",
       "       [323.74499512],\n",
       "       [323.75      ],\n",
       "       [324.33010864],\n",
       "       [323.85998535],\n",
       "       [324.82998657],\n",
       "       [324.92001343],\n",
       "       [325.05999756],\n",
       "       [324.24710083],\n",
       "       [324.54000854],\n",
       "       [328.5335083 ],\n",
       "       [328.08499146],\n",
       "       [328.50601196],\n",
       "       [327.83499146],\n",
       "       [328.42999268],\n",
       "       [328.71499634],\n",
       "       [328.48999023],\n",
       "       [323.07501221],\n",
       "       [324.1499939 ],\n",
       "       [324.20999146],\n",
       "       [324.1499939 ],\n",
       "       [324.66000366],\n",
       "       [324.68499756],\n",
       "       [324.82000732],\n",
       "       [330.09829712],\n",
       "       [332.51000977],\n",
       "       [335.70001221],\n",
       "       [335.25      ],\n",
       "       [333.90499878],\n",
       "       [334.73001099],\n",
       "       [335.33999634],\n",
       "       [339.38500977],\n",
       "       [340.        ],\n",
       "       [340.95001221],\n",
       "       [341.15499878],\n",
       "       [340.19000244],\n",
       "       [340.31799316],\n",
       "       [340.01998901],\n",
       "       [341.29000854],\n",
       "       [341.20001221],\n",
       "       [341.57501221],\n",
       "       [340.32000732],\n",
       "       [340.76998901],\n",
       "       [340.72000122],\n",
       "       [340.95001221],\n",
       "       [341.32000732],\n",
       "       [340.61999512],\n",
       "       [341.44540405],\n",
       "       [341.10998535],\n",
       "       [340.98001099],\n",
       "       [341.67999268],\n",
       "       [341.97000122],\n",
       "       [325.74978638],\n",
       "       [322.8999939 ],\n",
       "       [322.28799438],\n",
       "       [323.07000732],\n",
       "       [321.80999756],\n",
       "       [322.29998779],\n",
       "       [324.67999268],\n",
       "       [323.94000244],\n",
       "       [324.67001343],\n",
       "       [325.12341309],\n",
       "       [325.        ],\n",
       "       [325.63000488],\n",
       "       [329.55169678],\n",
       "       [329.02999878],\n",
       "       [323.45001221],\n",
       "       [321.80499268],\n",
       "       [313.70001221],\n",
       "       [312.72000122],\n",
       "       [313.1499939 ],\n",
       "       [313.92001343],\n",
       "       [315.79998779],\n",
       "       [315.26998901],\n",
       "       [315.65429688],\n",
       "       [315.36499023],\n",
       "       [315.82998657],\n",
       "       [315.42999268],\n",
       "       [313.48999023],\n",
       "       [312.22000122],\n",
       "       [313.73001099],\n",
       "       [315.08999634],\n",
       "       [315.64001465],\n",
       "       [314.76000977],\n",
       "       [320.84500122],\n",
       "       [323.30999756],\n",
       "       [316.82000732],\n",
       "       [323.62008667],\n",
       "       [325.17999268],\n",
       "       [324.39001465],\n",
       "       [324.8999939 ],\n",
       "       [324.02999878],\n",
       "       [322.47799683],\n",
       "       [323.57998657],\n",
       "       [332.14001465],\n",
       "       [331.04998779],\n",
       "       [332.44500732],\n",
       "       [330.5       ],\n",
       "       [327.84500122],\n",
       "       [329.54998779],\n",
       "       [330.01998901],\n",
       "       [330.22738647],\n",
       "       [331.93499756],\n",
       "       [326.7250061 ],\n",
       "       [326.04998779],\n",
       "       [325.29998779],\n",
       "       [327.90631104],\n",
       "       [328.20001221],\n",
       "       [328.26000977],\n",
       "       [327.3999939 ],\n",
       "       [328.26000977],\n",
       "       [328.88000488],\n",
       "       [328.73999023],\n",
       "       [330.76998901],\n",
       "       [331.69500732],\n",
       "       [335.45001221],\n",
       "       [334.64001465],\n",
       "       [334.44000244],\n",
       "       [334.10998535],\n",
       "       [335.60998535],\n",
       "       [336.20001221],\n",
       "       [335.98001099],\n",
       "       [340.3999939 ],\n",
       "       [342.22000122],\n",
       "       [346.01998901],\n",
       "       [342.00149536],\n",
       "       [342.45999146],\n",
       "       [340.8500061 ],\n",
       "       [341.13000488],\n",
       "       [340.80801392],\n",
       "       [341.64001465],\n",
       "       [340.8999939 ],\n",
       "       [342.2749939 ],\n",
       "       [341.33999634],\n",
       "       [340.375     ],\n",
       "       [338.51998901],\n",
       "       [335.46640015],\n",
       "       [334.80108643],\n",
       "       [336.01998901],\n",
       "       [335.82998657],\n",
       "       [335.8500061 ],\n",
       "       [336.30999756],\n",
       "       [335.3999939 ],\n",
       "       [331.78009033],\n",
       "       [331.00500488],\n",
       "       [331.1211853 ],\n",
       "       [329.32000732],\n",
       "       [326.14028931],\n",
       "       [328.3500061 ],\n",
       "       [327.6499939 ],\n",
       "       [329.98001099],\n",
       "       [330.68899536],\n",
       "       [329.43499756],\n",
       "       [329.07998657],\n",
       "       [328.57000732],\n",
       "       [328.14001465],\n",
       "       [327.75      ],\n",
       "       [335.51000977],\n",
       "       [340.66000366],\n",
       "       [340.20001221],\n",
       "       [338.92999268],\n",
       "       [339.1499939 ],\n",
       "       [339.88500977]])"
      ]
     },
     "execution_count": 249,
     "metadata": {},
     "output_type": "execute_result"
    }
   ],
   "source": [
    "y_test"
   ]
  },
  {
   "cell_type": "code",
   "execution_count": 250,
   "id": "5dfffb14",
   "metadata": {},
   "outputs": [],
   "source": [
    "def plot_pred(test,predicted):\n",
    "    plt.plot(test,color='red',label='Actual FB stock price')\n",
    "    plt.plot(predicted,color='blue',label=\"RNN predicted stock price\")\n",
    "    plt.xlabel('Time')\n",
    "    plt.ylabel(\"Price\")\n",
    "    plt.legend()\n",
    "    plt.show()"
   ]
  },
  {
   "cell_type": "code",
   "execution_count": 251,
   "metadata": {},
   "outputs": [
    {
     "data": {
      "image/png": "[encoded data removed]",
      "text/plain": [
       "<Figure size 432x288 with 1 Axes>"
      ]
     },
     "metadata": {},
     "output_type": "display_data"
    }
   ],
   "source": [
    "plot_pred(y_test,y_pred_RNN)"
   ]
  },
  {
   "cell_type": "markdown",
   "metadata": {},
   "source": [
    "##### PERFORMANCE METRICES"
   ]
  },
  {
   "cell_type": "markdown",
   "metadata": {},
   "source": [
    ">MEAN SQUARED ERROR"
   ]
  },
  {
   "cell_type": "code",
   "execution_count": 252,
   "metadata": {},
   "outputs": [
    {
     "data": {
      "text/plain": [
       "8.02140774453758"
      ]
     },
     "execution_count": 252,
     "metadata": {},
     "output_type": "execute_result"
    }
   ],
   "source": [
    "from sklearn.metrics import mean_squared_error\n",
    "x_rnn=mean_squared_error(y_test,y_pred_RNN)\n",
    "x_rnn"
   ]
  },
  {
   "cell_type": "markdown",
   "metadata": {},
   "source": [
    ">ROOT MEAN SQUARED ERROR"
   ]
  },
  {
   "cell_type": "code",
   "execution_count": 253,
   "metadata": {},
   "outputs": [
    {
     "data": {
      "text/plain": [
       "2.8322089867341322"
      ]
     },
     "execution_count": 253,
     "metadata": {},
     "output_type": "execute_result"
    }
   ],
   "source": [
    "rmse_rnn=x_rnn**0.5\n",
    "rmse_rnn"
   ]
  },
  {
   "cell_type": "markdown",
   "metadata": {},
   "source": [
    ">MEAN ABSOLUTE PERCENTAGE ERROR"
   ]
  },
  {
   "cell_type": "code",
   "execution_count": 254,
   "metadata": {},
   "outputs": [
    {
     "name": "stdout",
     "output_type": "stream",
     "text": [
      "0.5672954440974122\n"
     ]
    }
   ],
   "source": [
    "from sklearn.metrics import mean_absolute_percentage_error\n",
    "mape_rnn =mean_absolute_percentage_error(y_test,y_pred_RNN)*100\n",
    "print(mape_rnn)"
   ]
  },
  {
   "cell_type": "markdown",
   "metadata": {},
   "source": [
    "> Next 20 hours prediction"
   ]
  },
  {
   "cell_type": "code",
   "execution_count": 255,
   "metadata": {},
   "outputs": [
    {
     "data": {
      "text/html": [
       "<div>\n",
       "<style scoped>\n",
       "    .dataframe tbody tr th:only-of-type {\n",
       "        vertical-align: middle;\n",
       "    }\n",
       "\n",
       "    .dataframe tbody tr th {\n",
       "        vertical-align: top;\n",
       "    }\n",
       "\n",
       "    .dataframe thead th {\n",
       "        text-align: right;\n",
       "    }\n",
       "</style>\n",
       "<table border=\"1\" class=\"dataframe\">\n",
       "  <thead>\n",
       "    <tr style=\"text-align: right;\">\n",
       "      <th></th>\n",
       "      <th>Close</th>\n",
       "    </tr>\n",
       "    <tr>\n",
       "      <th>Date</th>\n",
       "      <th></th>\n",
       "    </tr>\n",
       "  </thead>\n",
       "  <tbody>\n",
       "    <tr>\n",
       "      <th>2020-09-14 14:30:00-04:00</th>\n",
       "      <td>267.199890</td>\n",
       "    </tr>\n",
       "    <tr>\n",
       "      <th>2020-09-14 15:30:00-04:00</th>\n",
       "      <td>266.140015</td>\n",
       "    </tr>\n",
       "  </tbody>\n",
       "</table>\n",
       "</div>"
      ],
      "text/plain": [
       "                                Close\n",
       "Date                                 \n",
       "2020-09-14 14:30:00-04:00  267.199890\n",
       "2020-09-14 15:30:00-04:00  266.140015"
      ]
     },
     "execution_count": 255,
     "metadata": {},
     "output_type": "execute_result"
    }
   ],
   "source": [
    "df1=df_yahoo.drop([\"Volume\",\"Open\",\"High\",\"Low\"],axis=1)\n",
    "df1.head(2)"
   ]
  },
  {
   "cell_type": "code",
   "execution_count": 256,
   "metadata": {},
   "outputs": [
    {
     "data": {
      "text/plain": [
       "(300, 1)"
      ]
     },
     "execution_count": 256,
     "metadata": {},
     "output_type": "execute_result"
    }
   ],
   "source": [
    "a=300\n",
    "b=df1[(2061-a):]\n",
    "b.shape\n"
   ]
  },
  {
   "cell_type": "code",
   "execution_count": 257,
   "metadata": {},
   "outputs": [],
   "source": [
    "new_data = df1.iloc[-301:-1]\n",
    "last60prices=np.array(new_data)"
   ]
  },
  {
   "cell_type": "code",
   "execution_count": 258,
   "metadata": {},
   "outputs": [],
   "source": [
    "last60prices=last60prices.reshape(-1, 1)"
   ]
  },
  {
   "cell_type": "code",
   "execution_count": 259,
   "metadata": {},
   "outputs": [
    {
     "data": {
      "text/plain": [
       "(300, 1)"
      ]
     },
     "execution_count": 259,
     "metadata": {},
     "output_type": "execute_result"
    }
   ],
   "source": [
    "last60prices.shape"
   ]
  },
  {
   "cell_type": "code",
   "execution_count": 260,
   "metadata": {},
   "outputs": [],
   "source": [
    "X_60=min_max_scaler.transform(last60prices)"
   ]
  },
  {
   "cell_type": "code",
   "execution_count": 261,
   "metadata": {},
   "outputs": [],
   "source": [
    "NumSamples=20\n",
    "TimeSteps=15\n",
    "NumFeatures=1\n",
    "X_60=X_60.reshape(NumSamples,NumFeatures,TimeSteps)"
   ]
  },
  {
   "cell_type": "code",
   "execution_count": 262,
   "metadata": {},
   "outputs": [
    {
     "data": {
      "text/plain": [
       "(20, 1, 15)"
      ]
     },
     "execution_count": 262,
     "metadata": {},
     "output_type": "execute_result"
    }
   ],
   "source": [
    "X_60.shape"
   ]
  },
  {
   "cell_type": "code",
   "execution_count": 263,
   "metadata": {},
   "outputs": [
    {
     "data": {
      "text/plain": [
       "(397, 1, 15)"
      ]
     },
     "execution_count": 263,
     "metadata": {},
     "output_type": "execute_result"
    }
   ],
   "source": [
    "x_test.shape"
   ]
  },
  {
   "cell_type": "code",
   "execution_count": 264,
   "metadata": {},
   "outputs": [
    {
     "data": {
      "text/plain": [
       "array([[368.76477],\n",
       "       [356.00497],\n",
       "       [346.2717 ],\n",
       "       [352.26437],\n",
       "       [340.44476],\n",
       "       [344.37225],\n",
       "       [332.6273 ],\n",
       "       [331.73883],\n",
       "       [319.7676 ],\n",
       "       [328.97314],\n",
       "       [336.2807 ],\n",
       "       [340.96005],\n",
       "       [320.98038],\n",
       "       [314.89255],\n",
       "       [322.20917],\n",
       "       [331.75906],\n",
       "       [335.16617],\n",
       "       [341.96628],\n",
       "       [326.76437],\n",
       "       [340.36218]], dtype=float32)"
      ]
     },
     "execution_count": 264,
     "metadata": {},
     "output_type": "execute_result"
    }
   ],
   "source": [
    "predicted_Price = model.predict(X_60)\n",
    "predicted_Price = min_max_scaler.inverse_transform(predicted_Price)\n",
    "predicted_Price"
   ]
  },
  {
   "cell_type": "code",
   "execution_count": 265,
   "metadata": {},
   "outputs": [
    {
     "data": {
      "image/png": "[encoded data removed]",
      "text/plain": [
       "<Figure size 432x288 with 1 Axes>"
      ]
     },
     "metadata": {},
     "output_type": "display_data"
    }
   ],
   "source": [
    "plt.plot(predicted_Price,color='blue',label=\"RNN predicted stock price\")\n",
    "plt.xlabel('Time')\n",
    "plt.ylabel(\"Price\")\n",
    "plt.legend()\n",
    "plt.show()"
   ]
  },
  {
   "cell_type": "code",
   "execution_count": 266,
   "metadata": {},
   "outputs": [
    {
     "data": {
      "image/png": "[encoded data removed]",
      "text/plain": [
       "<Figure size 1080x432 with 1 Axes>"
      ]
     },
     "metadata": {},
     "output_type": "display_data"
    }
   ],
   "source": [
    "def plot_multi_step(history, prediction1):\n",
    "    \n",
    "    plt.figure(figsize=(15, 6))\n",
    "    \n",
    "    range_history = len(history)\n",
    "    range_future = list(range(range_history, range_history +\n",
    "                        len(prediction1)))\n",
    "    plt.plot(np.arange(range_history), np.array(history), \n",
    "             label='History')\n",
    "    plt.plot(range_future, np.array(prediction1),\n",
    "             label='Forecasted for RNN')\n",
    "      \n",
    "    plt.legend(loc='upper right')\n",
    "    plt.xlabel('Time step (hour)')\n",
    "    plt.ylabel('Stock Price')\n",
    "        \n",
    "plot_multi_step(new_data, predicted_Price)"
   ]
  },
  {
   "cell_type": "code",
   "execution_count": 269,
   "metadata": {
    "id": "FL0RumIRoDBz"
   },
   "outputs": [],
   "source": [
    "Rmse_data={\"model\":[\"ARIMA\",\"Holt_Winters\",\"LSTM\"],\"Rmse_value\":[rmse_arima,rmse_hw,rmse_rnn]}"
   ]
  },
  {
   "cell_type": "code",
   "execution_count": 270,
   "metadata": {
    "colab": {
     "base_uri": "https://localhost:8080/",
     "height": 143
    },
    "id": "wMbJ7Ur3zaIf",
    "outputId": "9aa8c865-1a26-43ad-de1c-67c157390020"
   },
   "outputs": [
    {
     "data": {
      "text/html": [
       "<div>\n",
       "<style scoped>\n",
       "    .dataframe tbody tr th:only-of-type {\n",
       "        vertical-align: middle;\n",
       "    }\n",
       "\n",
       "    .dataframe tbody tr th {\n",
       "        vertical-align: top;\n",
       "    }\n",
       "\n",
       "    .dataframe thead th {\n",
       "        text-align: right;\n",
       "    }\n",
       "</style>\n",
       "<table border=\"1\" class=\"dataframe\">\n",
       "  <thead>\n",
       "    <tr style=\"text-align: right;\">\n",
       "      <th></th>\n",
       "      <th>model</th>\n",
       "      <th>Rmse_value</th>\n",
       "    </tr>\n",
       "  </thead>\n",
       "  <tbody>\n",
       "    <tr>\n",
       "      <th>0</th>\n",
       "      <td>ARIMA</td>\n",
       "      <td>30.981834</td>\n",
       "    </tr>\n",
       "    <tr>\n",
       "      <th>1</th>\n",
       "      <td>Holt_Winters</td>\n",
       "      <td>42.499165</td>\n",
       "    </tr>\n",
       "    <tr>\n",
       "      <th>2</th>\n",
       "      <td>LSTM</td>\n",
       "      <td>2.832209</td>\n",
       "    </tr>\n",
       "  </tbody>\n",
       "</table>\n",
       "</div>"
      ],
      "text/plain": [
       "          model  Rmse_value\n",
       "0         ARIMA   30.981834\n",
       "1  Holt_Winters   42.499165\n",
       "2          LSTM    2.832209"
      ]
     },
     "execution_count": 270,
     "metadata": {},
     "output_type": "execute_result"
    }
   ],
   "source": [
    "Rmse_data=pd.DataFrame(Rmse_data)\n",
    "Rmse_data"
   ]
  },
  {
   "cell_type": "code",
   "execution_count": 271,
   "metadata": {
    "colab": {
     "base_uri": "https://localhost:8080/",
     "height": 389
    },
    "id": "ovmuO4Nk1Nu1",
    "outputId": "29bc0a08-1e86-4c3b-c196-10bd9e4614ba"
   },
   "outputs": [
    {
     "data": {
      "image/png": "[encoded data removed]",
      "text/plain": [
       "<Figure size 432x432 with 1 Axes>"
      ]
     },
     "metadata": {},
     "output_type": "display_data"
    }
   ],
   "source": [
    "plt.figure(figsize=(6,6))\n",
    "R=sns.barplot(x=\"Rmse_value\",y=\"model\",data=Rmse_data)\n",
    "for index, row in Rmse_data.iterrows():\n",
    "    R.text(row.Rmse_value,row.name, round(row.Rmse_value,2), color='Red', ha=\"center\")"
   ]
  },
  {
   "cell_type": "code",
   "execution_count": 272,
   "metadata": {
    "id": "Y_U_xUlw3Jus"
   },
   "outputs": [],
   "source": [
    "MAPE_data={\"model\":[\"ARIMA\",\"Holt_Winters\",\"LSTM\"],\"MAPE_value\":[mape_arima,mape_hw,mape_rnn]}"
   ]
  },
  {
   "cell_type": "code",
   "execution_count": 273,
   "metadata": {
    "colab": {
     "base_uri": "https://localhost:8080/",
     "height": 143
    },
    "id": "1NJXDQfU40vB",
    "outputId": "ec4a14d8-e6e2-4663-f026-87293a037a03"
   },
   "outputs": [
    {
     "data": {
      "text/html": [
       "<div>\n",
       "<style scoped>\n",
       "    .dataframe tbody tr th:only-of-type {\n",
       "        vertical-align: middle;\n",
       "    }\n",
       "\n",
       "    .dataframe tbody tr th {\n",
       "        vertical-align: top;\n",
       "    }\n",
       "\n",
       "    .dataframe thead th {\n",
       "        text-align: right;\n",
       "    }\n",
       "</style>\n",
       "<table border=\"1\" class=\"dataframe\">\n",
       "  <thead>\n",
       "    <tr style=\"text-align: right;\">\n",
       "      <th></th>\n",
       "      <th>model</th>\n",
       "      <th>MAPE_value</th>\n",
       "    </tr>\n",
       "  </thead>\n",
       "  <tbody>\n",
       "    <tr>\n",
       "      <th>0</th>\n",
       "      <td>ARIMA</td>\n",
       "      <td>8.023544</td>\n",
       "    </tr>\n",
       "    <tr>\n",
       "      <th>1</th>\n",
       "      <td>Holt_Winters</td>\n",
       "      <td>10.619090</td>\n",
       "    </tr>\n",
       "    <tr>\n",
       "      <th>2</th>\n",
       "      <td>LSTM</td>\n",
       "      <td>0.567295</td>\n",
       "    </tr>\n",
       "  </tbody>\n",
       "</table>\n",
       "</div>"
      ],
      "text/plain": [
       "          model  MAPE_value\n",
       "0         ARIMA    8.023544\n",
       "1  Holt_Winters   10.619090\n",
       "2          LSTM    0.567295"
      ]
     },
     "execution_count": 273,
     "metadata": {},
     "output_type": "execute_result"
    }
   ],
   "source": [
    "MAPE_data=pd.DataFrame(MAPE_data)\n",
    "MAPE_data"
   ]
  },
  {
   "cell_type": "code",
   "execution_count": 274,
   "metadata": {
    "colab": {
     "base_uri": "https://localhost:8080/",
     "height": 389
    },
    "id": "1RU6JvX93jv3",
    "outputId": "bce0b72d-882b-4ce2-cb4e-4a9d9b89abc7"
   },
   "outputs": [
    {
     "data": {
      "image/png": "[encoded data removed]",
      "text/plain": [
       "<Figure size 432x432 with 1 Axes>"
      ]
     },
     "metadata": {},
     "output_type": "display_data"
    }
   ],
   "source": [
    "plt.figure(figsize=(6,6))\n",
    "M=sns.barplot(x=\"MAPE_value\",y=\"model\",data=MAPE_data)\n",
    "for index, row in MAPE_data.iterrows():\n",
    "    M.text(row.MAPE_value,row.name, round(row.MAPE_value,2), color='red', ha=\"center\")"
   ]
  },
  {
   "cell_type": "markdown",
   "metadata": {
    "id": "ifALjIVX65Vt"
   },
   "source": [
    "Finally by comparing all models LSTM gives better results"
   ]
  },
  {
   "cell_type": "markdown",
   "metadata": {
    "id": "hjqE1b8nObIi"
   },
   "source": [
    "\n",
    "\n",
    "---\n",
    "\n",
    "\n"
   ]
  }
 ],
 "metadata": {
  "interpreter": {
   "hash": "a5bcc3432d92babd5f87a2bcda8d0e22a8dc8da8f6a2f95742459b3072c9e04b"
  },
  "kernelspec": {
   "display_name": "Python 3.9.6 64-bit",
   "language": "python",
   "name": "python3"
  },
  "language_info": {
   "codemirror_mode": {
    "name": "ipython",
    "version": 3
   },
   "file_extension": ".py",
   "mimetype": "text/x-python",
   "name": "python",
   "nbconvert_exporter": "python",
   "pygments_lexer": "ipython3",
   "version": "3.9.9"
  },
  "orig_nbformat": 4
 },
 "nbformat": 4,
 "nbformat_minor": 2
}
