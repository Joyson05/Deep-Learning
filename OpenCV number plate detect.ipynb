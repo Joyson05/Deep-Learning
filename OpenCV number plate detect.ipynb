{
 "cells": [
  {
   "cell_type": "code",
   "execution_count": 1,
   "id": "03a5083d",
   "metadata": {},
   "outputs": [],
   "source": [
    "#!pip3 install opencv-python"
   ]
  },
  {
   "cell_type": "code",
   "execution_count": 9,
   "id": "80b618a5",
   "metadata": {},
   "outputs": [],
   "source": [
    "import cv2"
   ]
  },
  {
   "cell_type": "code",
   "execution_count": 10,
   "id": "ae815c35",
   "metadata": {},
   "outputs": [],
   "source": [
    "# load the image, resize it, and convert it to grayscale\n",
    "width = 800\n",
    "height = 400\n",
    "image= cv2.imread(\"numplate_demo.jpg\")\n",
    "image = cv2.resize(image, (width, height))\n",
    "gray = cv2.cvtColor(image, cv2.COLOR_BGR2GRAY)"
   ]
  },
  {
   "cell_type": "code",
   "execution_count": 11,
   "id": "717df7c8",
   "metadata": {},
   "outputs": [],
   "source": [
    "#loading the number plate detector for indian vechicles.\n",
    "n_plate_detector = cv2.CascadeClassifier(\"indian_license_plate.xml\")"
   ]
  },
  {
   "cell_type": "code",
   "execution_count": 12,
   "id": "b759f903",
   "metadata": {},
   "outputs": [],
   "source": [
    "# detect the number plates in the grayscale image\n",
    "detections = n_plate_detector.detectMultiScale(gray, scaleFactor=1.05, minNeighbors=7)"
   ]
  },
  {
   "cell_type": "code",
   "execution_count": 13,
   "id": "b33e4380",
   "metadata": {},
   "outputs": [
    {
     "data": {
      "text/plain": [
       "array([[269, 168, 176,  44],\n",
       "       [440, 158, 287,  72],\n",
       "       [276, 148, 461, 115]])"
      ]
     },
     "execution_count": 13,
     "metadata": {},
     "output_type": "execute_result"
    }
   ],
   "source": [
    "detections"
   ]
  },
  {
   "cell_type": "code",
   "execution_count": 16,
   "id": "fd6a8370",
   "metadata": {},
   "outputs": [],
   "source": [
    "# loop over the number plate bounding boxes to draw a rectangle around the number plate\n",
    "for (x, y, w, h) in detections:\n",
    "     cv2.rectangle(image, (x, y), (x + w, y + h), (0, 255, 255), 2)\n",
    "     cv2.putText(image, \"Number plate detected\", (x - 20, y - 10),\n",
    "                cv2.FONT_HERSHEY_COMPLEX, 0.5, (0, 255, 255), 2)\n",
    "     number_plate = gray[y:y + h, x:x + w] # extract the number plate from the grayscale image"
   ]
  },
  {
   "cell_type": "code",
   "execution_count": 21,
   "id": "7b92f539",
   "metadata": {},
   "outputs": [
    {
     "data": {
      "text/plain": [
       "array([[142, 141, 142, ...,  44,  44,  51],\n",
       "       [142, 141, 142, ...,  45,  46,  43],\n",
       "       [142, 142, 142, ...,  37,  45,  45],\n",
       "       ...,\n",
       "       [185, 179, 174, ..., 226, 226, 226],\n",
       "       [187, 180, 177, ..., 226, 226, 226],\n",
       "       [187, 181, 178, ..., 227, 227, 227]], dtype=uint8)"
      ]
     },
     "execution_count": 21,
     "metadata": {},
     "output_type": "execute_result"
    }
   ],
   "source": [
    "number_plate"
   ]
  },
  {
   "cell_type": "code",
   "execution_count": 19,
   "id": "f0b06281",
   "metadata": {},
   "outputs": [
    {
     "data": {
      "text/plain": [
       "-1"
      ]
     },
     "execution_count": 19,
     "metadata": {},
     "output_type": "execute_result"
    }
   ],
   "source": [
    "cv2.imshow(\"Number plate\", number_plate)\n",
    "cv2.imshow(\"Number plate detection\", image)\n",
    "cv2.waitKey(0)"
   ]
  },
  {
   "cell_type": "code",
   "execution_count": null,
   "id": "fbc4f940",
   "metadata": {},
   "outputs": [],
   "source": []
  }
 ],
 "metadata": {
  "kernelspec": {
   "display_name": "Python 3",
   "language": "python",
   "name": "python3"
  },
  "language_info": {
   "codemirror_mode": {
    "name": "ipython",
    "version": 3
   },
   "file_extension": ".py",
   "mimetype": "text/x-python",
   "name": "python",
   "nbconvert_exporter": "python",
   "pygments_lexer": "ipython3",
   "version": "3.8.8"
  }
 },
 "nbformat": 4,
 "nbformat_minor": 5
}
